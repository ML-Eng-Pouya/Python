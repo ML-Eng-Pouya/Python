{
 "cells": [
  {
   "cell_type": "markdown",
   "id": "cd726ba6",
   "metadata": {},
   "source": [
    "# Answers to Chapter 7 Exercises"
   ]
  },
  {
   "cell_type": "markdown",
   "id": "463753c3",
   "metadata": {},
   "source": [
    "1. Write a program that asks the user to enter a list of integers. Do the following: (a) Print the total number of items in the list. (b) Print the last item in the list. (c) Print the list in reverse order.(d) Print Yes if the list contains a 5 and No otherwise. (e) Print the number of fives in the list. (f) Remove the first and last items from the list, sort the remaining items, and print the result. (g) Print how many integers in the list are less than 5."
   ]
  },
  {
   "cell_type": "code",
   "execution_count": null,
   "id": "52690f03",
   "metadata": {},
   "outputs": [],
   "source": [
    "import random\n",
    "my_list = [random.randint(1, 100) for i in range(random.randint(5, 20))]\n",
    "random.shuffle(my_list)\n",
    "total_item = len(my_list)\n",
    "last_item = my_list[-1]\n",
    "reversed_list = my_list[::-1]\n",
    "five_or_not = 5 in my_list\n",
    "num_fives = my_list.count(5) if five_or_not else None\n",
    "stripped_list = sorted(my_list[1:-1])\n",
    "less_than_five = 0\n",
    "for i in my_list:\n",
    "    if i<5:\n",
    "        less_than_five += 1"
   ]
  },
  {
   "cell_type": "markdown",
   "id": "dee7c5d5",
   "metadata": {},
   "source": [
    "2. Write a program that generates a list of 20 random numbers between 1 and 100. (a) Print the list. (b) Print the average of the elements in the list. (c) Print the largest and smallest values in the list. (d) Print the second largest and second smallest entries in the list (e) Print how many even numbers are in the list."
   ]
  },
  {
   "cell_type": "code",
   "execution_count": null,
   "id": "02963e48",
   "metadata": {},
   "outputs": [],
   "source": [
    "import random\n",
    "my_list = [random.randint(1, 100) for i in range(20)]\n",
    "average_item = sum(my_list)/len(my_list)\n",
    "largest = max(my_list)\n",
    "smallest = min(my_list)\n",
    "my_list.sort()\n",
    "second_largest = 0\n",
    "for i in range(2, len(my_list)+1):\n",
    "    if my_list[-i] != my_list[-1]:\n",
    "        second_largest = my_list[-i]\n",
    "        break\n",
    "second_smallest = 0\n",
    "for i in range(1, len(my_list)):\n",
    "    if my_list[i] != my_list[0]:\n",
    "        second_smallest = my_list[i]\n",
    "        break\n",
    "even_nums = 0\n",
    "for item in my_list:\n",
    "    if not item % 2:\n",
    "        even_nums += 1"
   ]
  },
  {
   "cell_type": "markdown",
   "id": "088c91ed",
   "metadata": {},
   "source": [
    "9. When playing games where you have to roll two dice, it is nice to know the odds of each roll. For instance, the odds of rolling a 12 are about 3%, and the odds of rolling a 7 are about 17%. You can compute these mathematically, but if you don’t know the math, you can write a program to do it. To do this, your program should simulate rolling two dice about 10,000 times and compute and print out the percentage of rolls that come out to be 2, 3, 4, . . . , 12."
   ]
  },
  {
   "cell_type": "code",
   "execution_count": null,
   "id": "917d38b1",
   "metadata": {
    "scrolled": true
   },
   "outputs": [],
   "source": [
    "import random\n",
    "dice = list(i for i in range(1, 7))\n",
    "res_dict = dict()\n",
    "for key in range(2, 13):\n",
    "    res_dict[key] = 0\n",
    "N = 10000\n",
    "for i in range(N):\n",
    "    res = random.choice(dice) + random.choice(dice)\n",
    "    res_dict[res] += 1\n",
    "else:\n",
    "    for key in res_dict:\n",
    "        print(f'Out of {N:,} throws, %{(res_dict[key]/N)*100:.2f} of times, you got {key}.')"
   ]
  },
  {
   "cell_type": "markdown",
   "id": "198d3732",
   "metadata": {},
   "source": [
    "11. Using a for loop, create the list below, which consists of ones separated by increasingly many zeroes. The last two ones in the list should be separated by ten zeroes. [1,1,0,1,0,0,1,0,0,0,1,0,0,0,0,1,....]"
   ]
  },
  {
   "cell_type": "code",
   "execution_count": null,
   "id": "299c7301",
   "metadata": {},
   "outputs": [],
   "source": [
    "my_list = list()\n",
    "for i in range(11):\n",
    "    my_list += [1] + [0]*i\n",
    "    if i == 10:\n",
    "        my_list += [1]\n",
    "print(my_list)"
   ]
  },
  {
   "cell_type": "markdown",
   "id": "06869776",
   "metadata": {},
   "source": [
    "12. Write a program that generates 100 random integers that are either 0 or 1. Then find the longest run of zeros, the largest number of zeros in a row. For instance, the longest run of zeros in [1,0,1,1,0,0,0,0,1,0,0] is 4."
   ]
  },
  {
   "cell_type": "code",
   "execution_count": null,
   "id": "16e469ac",
   "metadata": {},
   "outputs": [],
   "source": [
    "import random\n",
    "my_list = list()\n",
    "for i in range(100):\n",
    "    my_list.append(random.randint(0, 1))\n",
    "longest_run = 0\n",
    "counter = 0\n",
    "for item in my_list:\n",
    "    if item:\n",
    "        if counter > longest_run:\n",
    "            longest_run = counter\n",
    "        else:\n",
    "            counter = 0\n",
    "    else:\n",
    "        counter += 1"
   ]
  }
 ],
 "metadata": {
  "kernelspec": {
   "display_name": "Python 3 (ipykernel)",
   "language": "python",
   "name": "python3"
  },
  "language_info": {
   "codemirror_mode": {
    "name": "ipython",
    "version": 3
   },
   "file_extension": ".py",
   "mimetype": "text/x-python",
   "name": "python",
   "nbconvert_exporter": "python",
   "pygments_lexer": "ipython3",
   "version": "3.9.7"
  }
 },
 "nbformat": 4,
 "nbformat_minor": 5
}
