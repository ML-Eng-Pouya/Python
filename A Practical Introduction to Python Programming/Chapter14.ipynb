{
 "cells": [
  {
   "cell_type": "markdown",
   "id": "451ebb84",
   "metadata": {},
   "source": [
    "# Answers to Chapter 14 Exercises"
   ]
  },
  {
   "cell_type": "markdown",
   "id": "cbb28ecd",
   "metadata": {},
   "source": [
    "1. Write a class called Investment with fields called principal and interest. The constructor should set the values of those fields. There should be a method called value_after that returns the value of the investment after n years. The formula for this is p(1 + i)n, where p is the principal, and i is the interest rate. It should also use the special method __str__ so that printing the object will result in something like below: Principal - $1000.00, Interest rate - 5.12%"
   ]
  },
  {
   "cell_type": "code",
   "execution_count": null,
   "id": "8c0dfaeb",
   "metadata": {},
   "outputs": [],
   "source": [
    "class Investment:\n",
    "    def __init__(self, principal, interest):\n",
    "        self.principal = principal\n",
    "        self.interest = interest\n",
    "\n",
    "    def __str__(self):\n",
    "        return f\"Principal - ${self.principal:.2f}, Interest rate - {self.interest:.2f}%\"\n",
    "\n",
    "    def value_after(self, n):\n",
    "        return self.principal*(1 + self.interest/100) ** n\n",
    "\n",
    "\n",
    "my_investment = Investment(1000, 5.12)\n",
    "print(my_investment)\n",
    "after5 = my_investment.value_after(5)\n",
    "print(f'${after5:,.2f}')"
   ]
  },
  {
   "cell_type": "markdown",
   "id": "276a16ca",
   "metadata": {},
   "source": [
    "2. Write a class called Product. The class should have fields called name, amount, and price, holding the product’s name, the number of items of that product in stock, and the regular price of the product. There should be a method get_price that receives the number of items to be bought and returns a the cost of buying that many items, where the regular price is charged for orders of less than 10 items, a 10% discount is applied for orders of between 10 and 99 items, and a 20% discount is applied for orders of 100 or more items. There should also be a method called make_purchase that receives the number of items to be bought and decreases amount by that much."
   ]
  },
  {
   "cell_type": "code",
   "execution_count": null,
   "id": "8a8db152",
   "metadata": {},
   "outputs": [],
   "source": [
    "class Product:\n",
    "    def __init__(self, name='', amount=0, price=0):\n",
    "        self.name = name\n",
    "        self.amount = amount\n",
    "        self.price = price\n",
    "\n",
    "    def __str__(self):\n",
    "        return f'There are {self.amount:,} {self.name}(s) worth ${self.price:,.2f} each available in the stock.'\n",
    "\n",
    "    def get_price(self, n):\n",
    "        total_amount = n * self.price\n",
    "        if 10 <= n < 99:\n",
    "            total_amount *= 0.9\n",
    "        elif n >= 100:\n",
    "            total_amount *= 0.8\n",
    "        return f'${total_amount:,.2f}'\n",
    "\n",
    "    def make_purchase(self, n):\n",
    "        self.amount -= n\n",
    "\n",
    "\n",
    "my_product = Product('iphone', 10, 900)\n",
    "print(my_product)\n",
    "customer1 = my_product.get_price(3)\n",
    "my_product.make_purchase(3)\n",
    "print(my_product)"
   ]
  },
  {
   "cell_type": "markdown",
   "id": "db6c119a",
   "metadata": {},
   "source": [
    "3. Write a class called Password_manager. The class should have a list called old_passwords that holds all of the user’s past passwords. The last item of the list is the user’s current password. There should be a method called get_password that returns the current password and a method called set_password that sets the user’s password. The set_password method should only change the password if the attempted password is different from all the user’s past passwords. Finally, create a method called is_correct that receives a string and returns a boolean True or False depending on whether the string is equal to the current password or not."
   ]
  },
  {
   "cell_type": "code",
   "execution_count": null,
   "id": "a361d25d",
   "metadata": {},
   "outputs": [],
   "source": [
    "class PasswordManager:\n",
    "    def __init__(self):\n",
    "        self.old_passwords = []\n",
    "\n",
    "    def get_password(self):\n",
    "        return self.old_passwords[-1] if len(self.old_passwords) else 'No Pass has entered yet'\n",
    "\n",
    "    def set_password(self, n):\n",
    "        if n not in self.old_passwords:\n",
    "            self.old_passwords.append(n)\n",
    "\n",
    "    def is_correct(self, entry_pass):\n",
    "        return entry_pass == self.old_passwords[-1]"
   ]
  },
  {
   "cell_type": "markdown",
   "id": "eb1c9549",
   "metadata": {},
   "source": [
    "4. Write a class called Time whose only field is a time in seconds. It should have a method called convert_to_minutes that returns a string of minutes and seconds formatted as in the following example: if seconds is 230, the method should return '5:50'. It should also have a method called convert_to_hours that returns a string of hours, minutes, and seconds formatted analogously to the previous method."
   ]
  },
  {
   "cell_type": "code",
   "execution_count": null,
   "id": "8ad85aae",
   "metadata": {},
   "outputs": [],
   "source": [
    "class Time:\n",
    "    def __init__(self, second):\n",
    "        self.second = second\n",
    "\n",
    "    def convert_to_minutes(self):\n",
    "        return f'{self.second//60:02d}:{self.second%60:02d}'\n",
    "\n",
    "    def convert_to_hours(self):\n",
    "        hour = self.second // 3600\n",
    "        minute = (self.second - hour*3600) // 60\n",
    "        second = self.second % 60\n",
    "        return f'{hour:02d}:{minute:02d}:{second:02d}'\n",
    "\n",
    "\n",
    "my_time = Time(230)\n",
    "print(my_time.convert_to_minutes())\n",
    "print(my_time.convert_to_hours())"
   ]
  },
  {
   "cell_type": "markdown",
   "id": "ed5dc9e1",
   "metadata": {},
   "source": [
    "5. Write a class called Wordplay. It should have a field that holds a list of words. The user of the class should pass the list of words they want to use to the class. There should be the following methods: • words_with_length(length) — returns a list of all the words of length length • starts_with(s) — returns a list of all the words that start with s • ends_with(s) — returns a list of all the words that end with s • palindromes() — returns a list of all the palindromes in the list • only(L) — returns a list of the words that contain only those letters in L • avoids(L) — returns a list of the words that contain none of the letters in L"
   ]
  },
  {
   "cell_type": "code",
   "execution_count": null,
   "id": "2e099df5",
   "metadata": {},
   "outputs": [],
   "source": [
    "class Wordplay:\n",
    "    def __init__(self, wordlist):\n",
    "        self.wordlist = wordlist\n",
    "\n",
    "    def words_with_length(self, length):\n",
    "        return [word for word in self.wordlist if len(word) == length]\n",
    "\n",
    "    def starts_with(self, s):\n",
    "        return [word for word in self.wordlist if word[:len(s)] == s]\n",
    "\n",
    "    def ends_with(self, s):\n",
    "        return [word for word in self.wordlist if word[-len(s):] == s]\n",
    "\n",
    "    def palindromes(self):\n",
    "        return [word for word in self.wordlist if word == word[::-1]]\n",
    "\n",
    "    def only(self, l):\n",
    "        only_list = []\n",
    "        for word in self.wordlist:\n",
    "            for i in range(len(word)):\n",
    "                if word[i] in list(l):\n",
    "                    continue\n",
    "                else:\n",
    "                    break\n",
    "            else:\n",
    "                only_list.append(word)\n",
    "        else:\n",
    "            return only_list\n",
    "\n",
    "    def avoids(self, l):\n",
    "        avoids_list = []\n",
    "        for word in self.wordlist:\n",
    "            for i in range(len(word)):\n",
    "                if word[i] in list(l):\n",
    "                    break\n",
    "            else:\n",
    "                avoids_list.append(word)\n",
    "        else:\n",
    "            return avoids_list"
   ]
  },
  {
   "cell_type": "markdown",
   "id": "4bf606ff",
   "metadata": {},
   "source": [
    "8. Write a class that inherits from the Card_group class of this chapter. The class should represent a deck of cards that contains only hearts and spaces, with only the cards 2 through 10 in each suit. Add a method to the class called next2 that returns the top two cards from the deck."
   ]
  },
  {
   "cell_type": "code",
   "execution_count": 1,
   "id": "93c28feb",
   "metadata": {},
   "outputs": [],
   "source": [
    "import random\n",
    "\n",
    "class CardGroup:\n",
    "    def __init__(self, cards=None):\n",
    "        if cards is None:\n",
    "            self.cards = []\n",
    "        else:\n",
    "            self.cards = cards\n",
    "\n",
    "    def next_card(self):\n",
    "        return self.cards.pop(0)\n",
    "\n",
    "    def has_card(self):\n",
    "        return len(self.cards) > 0\n",
    "\n",
    "    def size(self):\n",
    "        return len(self.cards)\n",
    "\n",
    "    def shuffle(self):\n",
    "        return random.shuffle(self.cards)\n",
    "\n",
    "class HS(CardGroup):\n",
    "    def __init__(self):\n",
    "        super().__init__()\n",
    "        self.cards = []\n",
    "        for s in ['Hearts', 'Spades']:\n",
    "            for v in range(2, 11):\n",
    "                self.cards.append((v, s))\n",
    "\n",
    "    def next2(self):\n",
    "        top_two = [i for i in sorted(self.cards, reverse=True)[:2]]\n",
    "        return top_two"
   ]
  }
 ],
 "metadata": {
  "kernelspec": {
   "display_name": "Python 3 (ipykernel)",
   "language": "python",
   "name": "python3"
  },
  "language_info": {
   "codemirror_mode": {
    "name": "ipython",
    "version": 3
   },
   "file_extension": ".py",
   "mimetype": "text/x-python",
   "name": "python",
   "nbconvert_exporter": "python",
   "pygments_lexer": "ipython3",
   "version": "3.9.7"
  }
 },
 "nbformat": 4,
 "nbformat_minor": 5
}
