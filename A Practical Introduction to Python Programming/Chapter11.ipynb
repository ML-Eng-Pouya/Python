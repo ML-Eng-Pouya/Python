{
 "cells": [
  {
   "cell_type": "markdown",
   "id": "39747ce0",
   "metadata": {},
   "source": [
    "# Answers to Chapter 11 Exercises"
   ]
  },
  {
   "cell_type": "markdown",
   "id": "21f2cad2",
   "metadata": {},
   "source": [
    "7. Create a 5×5 list of numbers. Then write a program that creates a dictionary whose keys are the numbers and whose values are the how many times the number occurs. Then print the three most common numbers."
   ]
  },
  {
   "cell_type": "code",
   "execution_count": null,
   "id": "c83dd361",
   "metadata": {},
   "outputs": [],
   "source": [
    "from random import randint\n",
    "N = 5\n",
    "num_list = list(list(random.randint(1, N**2) for row in range(N)) for col in range(N))\n",
    "pprint(num_list)\n",
    "print()\n",
    "num_dict = dict()\n",
    "for i in range(N):\n",
    "    for j in range(N):\n",
    "        if num_list[i][j] in num_dict:\n",
    "            num_dict[num_list[i][j]] += 1\n",
    "        else:\n",
    "            num_dict[num_list[i][j]] = 1\n",
    "else:\n",
    "    print(num_dict)"
   ]
  },
  {
   "cell_type": "markdown",
   "id": "8cab5d68",
   "metadata": {},
   "source": [
    "9. Using the card dictionary from earlier in the chapter, deal out three cards. Determine the following: (a) If the three cards form a flush (all of the same suit) (b) If there is a three-of-a-kind (all of the same value) (c) If there is a pair, but not three-of-a-kind (d) If the three cards form a straight (all in a row, like (2, 3, 4) or (10, Jack, Queen))"
   ]
  },
  {
   "cell_type": "code",
   "execution_count": null,
   "id": "c3cce565",
   "metadata": {},
   "outputs": [],
   "source": [
    "deck = [{'value':i, 'suit':c} for c in ['spades', 'clubs', 'hearts', 'diamonds']\n",
    "for i in range(2,15)]\n",
    "\n",
    "N = 3\n",
    "drawn_cards = random.sample(deck, N)\n",
    "print(drawn_cards)\n",
    "\n",
    "suit_list = set()\n",
    "total_value = set()\n",
    "for item in drawn_cards:\n",
    "    suit_list.add(item['suit'])\n",
    "    total_value.add(item['value'])\n",
    "else:\n",
    "    if len(suit_list) == 1:\n",
    "        print('It\\'s a Flush.')\n",
    "    elif len(total_value) == 1:\n",
    "        print('Three of a Kind.')\n",
    "    elif len(total_value) == 2:\n",
    "        print('It\\'s a pair.')\n",
    "    elif len(total_value) == 3 and max(total_value)-min(total_value) == 2:\n",
    "        print('It\\'s a straight.')\n",
    "    else:\n",
    "        print('Nothing serious.')"
   ]
  },
  {
   "cell_type": "markdown",
   "id": "77b9137f",
   "metadata": {},
   "source": [
    "10. Using the card dictionary from earlier in the chapter run a Monte Carlo simulation to estimate the probability of being dealt a flush in a five card hand."
   ]
  },
  {
   "cell_type": "code",
   "execution_count": null,
   "id": "fc1d6bde",
   "metadata": {},
   "outputs": [],
   "source": [
    "deck = [{'value': i, 'suit': c} for c in ['spades', 'clubs', 'hearts', 'diamonds']\n",
    "        for i in range(2, 15)]\n",
    "final_result = {'Flush': 0, 'Straight': 0, 'Pair': 0, 'Three of a Kind': 0}\n",
    "N = 1000\n",
    "n = 5\n",
    "for _ in range(N):\n",
    "    drawn_cards = random.sample(deck, n)\n",
    "    suit_list = set(item['suit'] for item in drawn_cards)\n",
    "    total_value = set(item['value'] for item in drawn_cards)\n",
    "\n",
    "    if len(suit_list) == 1:\n",
    "        final_result['Flush'] += 1\n",
    "    elif len(total_value) == 3:\n",
    "        final_result['Three of a Kind'] += 1\n",
    "    elif len(total_value) == 4:\n",
    "        final_result['Pair'] += 1\n",
    "    elif len(total_value) == 3 and (max(total_value) - min(total_value) == 4):\n",
    "        final_result['Straight'] += 1\n",
    "else:\n",
    "    for item in final_result:\n",
    "        print(f'%{(final_result[item]/N)*100:.2f} of times, there was a {item}.')"
   ]
  },
  {
   "cell_type": "markdown",
   "id": "33f4c54f",
   "metadata": {},
   "source": [
    "11. Write a program that asks the user to enter two strings. Then determine if the second string could be an encoded version of the first one with a substitution cipher. For instance, CXYZ is not an encoded version of BOOK because O got mapped to two separate letters. Also, CXXK is not an encoded version of BOOK, because K got mapped to itself. On the other hand, CXXZ would be an encoding of BOOK. This problem can be done with or without a dictionary."
   ]
  },
  {
   "cell_type": "code",
   "execution_count": null,
   "id": "d79c0817",
   "metadata": {},
   "outputs": [],
   "source": [
    "w1 = 'CXYZ'\n",
    "w2 = 'BOOK'\n",
    "d = dict()\n",
    "for i, j in zip(w1, w2):\n",
    "    if j in d and d[j] != i:\n",
    "        print(f'{w1} can not be an encoded version of {w2}.')\n",
    "        break\n",
    "    else:\n",
    "        d[j] = i"
   ]
  },
  {
   "cell_type": "markdown",
   "id": "ac3ac527",
   "metadata": {},
   "source": [
    "13. Suppose you are given the following list of strings: L = ['aabaabac', 'cabaabca', 'aaabbcba', 'aabacbab', 'acababba'] Patterns like this show up in many places, including DNA sequencing. The user has a string of their own with only some letters filled in and the rest as asterisks. An example is \"a** a****\". The user would like to know which of the strings in the list fit with their pattern. In the example just given, the matching strings are the first and fourth."
   ]
  },
  {
   "cell_type": "code",
   "execution_count": null,
   "id": "eb864483",
   "metadata": {},
   "outputs": [],
   "source": [
    "L = ['aabaabac', 'cabaabca', 'aaabbcba', 'aabacbab', 'acababba']\n",
    "for item in L:\n",
    "    print(len(item))\n",
    "\n",
    "user_string = 'a**a****'\n",
    "char_dict = dict()\n",
    "for i in range(len(user_string)):\n",
    "    if user_string[i] != '*':\n",
    "        char_dict[i] = user_string[i]\n",
    "else:\n",
    "    print(char_dict)\n",
    "\n",
    "matched = list()\n",
    "for word in L:\n",
    "    for i in char_dict:\n",
    "        if word[i] == char_dict[i]:\n",
    "            continue\n",
    "        else:\n",
    "            break\n",
    "    else:\n",
    "        matched.append(word)\n",
    "else:\n",
    "    print(matched)"
   ]
  },
  {
   "cell_type": "markdown",
   "id": "06904793",
   "metadata": {},
   "source": [
    "14. Write a program that reads through any dictionary like below and prints the following: (a) All the users whose phone number ends in an 8 (b) All the users that don’t have an email address listed"
   ]
  },
  {
   "cell_type": "code",
   "execution_count": null,
   "id": "44cfa7e1",
   "metadata": {},
   "outputs": [],
   "source": [
    "d=[{'name':'Todd', 'phone':'555-1414', 'email':'todd@mail.net'}, {'name':'Helga', 'phone':'555-1618', 'email':'helga@mail.net'}, {'name':'Princess', 'phone':'555-3141', 'email':''},\n",
    "{'name':'LJ', 'phone':'555-2718', 'email':'lj@mail.net'}]\n",
    "\n",
    "selected_users = list()\n",
    "for item in d:\n",
    "    if item['phone'][-1] == '8':\n",
    "        selected_users.append(item['name'])\n",
    "else:\n",
    "    print(selected_users)\n",
    "\n",
    "selected_users = list()\n",
    "for item in d:\n",
    "    if not item['email']:\n",
    "        selected_users.append(item['name'])\n",
    "else:\n",
    "    print(selected_users)"
   ]
  },
  {
   "cell_type": "markdown",
   "id": "f02ea70b",
   "metadata": {},
   "source": [
    "16. (a) Write a program that converts Roman numerals into ordinary numbers. Here are the conversions: M=1000, D=500, C=100, L=50, X=10, V=5 I=1. Don’t forget about things like IV being 4 and XL being 40."
   ]
  },
  {
   "cell_type": "code",
   "execution_count": null,
   "id": "cb0fa906",
   "metadata": {},
   "outputs": [],
   "source": [
    "roman_num = 'MCMLXXIV'\n",
    "rom_ord_dict = {'I': 1, 'V': 5, 'X': 10, 'L': 50, 'C': 100, 'D': 500, 'M': 1000}\n",
    "\n",
    "answer = 0\n",
    "ind = 0\n",
    "while ind < (len(roman_num) - 1):\n",
    "    if rom_ord_dict[roman_num[ind]] < rom_ord_dict[roman_num[ind + 1]]:\n",
    "        answer += rom_ord_dict[roman_num[ind + 1]] - rom_ord_dict[roman_num[ind]]\n",
    "        ind += 2\n",
    "    else:\n",
    "        answer += rom_ord_dict[roman_num[ind]]\n",
    "        ind += 1\n",
    "else:\n",
    "    print(answer)"
   ]
  },
  {
   "cell_type": "markdown",
   "id": "816b5088",
   "metadata": {},
   "source": [
    "16. (b) Write a program that converts ordinary numbers into Roman numerals"
   ]
  },
  {
   "cell_type": "code",
   "execution_count": null,
   "id": "a6b67ab1",
   "metadata": {},
   "outputs": [],
   "source": [
    "number = '1994'\n",
    "ord_rom_dict = {1: 'I', 5: 'V', 10: 'X', 50: 'L', 100: 'C', 500: 'D', 1000: 'M'}\n",
    "n = len(number)\n",
    "romaned_num = ''\n",
    "for i in range(1, len(number)+1):\n",
    "    current_level = int(number[i-1])*10**(n-i)\n",
    "    lowest_level = 1*10**(n-i)\n",
    "    mid_level = 5*10**(n-i)\n",
    "    highest_level = 1*10**(n - i + 1)\n",
    "    if i == 1:\n",
    "        romaned_num += (current_level // lowest_level)*ord_rom_dict[lowest_level]\n",
    "    elif highest_level - current_level == lowest_level:\n",
    "        romaned_num += ord_rom_dict[lowest_level] + ord_rom_dict[highest_level]\n",
    "    elif current_level - mid_level == lowest_level:\n",
    "        romaned_num += ord_rom_dict[mid_level] + ord_rom_dict[lowest_level]\n",
    "    elif mid_level - current_level == lowest_level:\n",
    "        romaned_num += ord_rom_dict[lowest_level] + ord_rom_dict[mid_level]\n",
    "    elif mid_level < current_level < highest_level:\n",
    "        romaned_num += ord_rom_dict[mid_level] + ((current_level - mid_level) // lowest_level) * ord_rom_dict[lowest_level]\n",
    "    elif lowest_level < current_level < mid_level:\n",
    "        romaned_num += (current_level // lowest_level) * ord_rom_dict[lowest_level]\n",
    "else:\n",
    "    print(romaned_num)"
   ]
  }
 ],
 "metadata": {
  "kernelspec": {
   "display_name": "Python 3 (ipykernel)",
   "language": "python",
   "name": "python3"
  },
  "language_info": {
   "codemirror_mode": {
    "name": "ipython",
    "version": 3
   },
   "file_extension": ".py",
   "mimetype": "text/x-python",
   "name": "python",
   "nbconvert_exporter": "python",
   "pygments_lexer": "ipython3",
   "version": "3.9.7"
  }
 },
 "nbformat": 4,
 "nbformat_minor": 5
}
