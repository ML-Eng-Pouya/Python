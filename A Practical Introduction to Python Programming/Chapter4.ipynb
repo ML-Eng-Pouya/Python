{
 "cells": [
  {
   "cell_type": "markdown",
   "id": "254fc31f",
   "metadata": {},
   "source": [
    "# Answers to Chapter 4 Exercises"
   ]
  },
  {
   "cell_type": "markdown",
   "id": "7d7e9688",
   "metadata": {},
   "source": [
    "9. Write a program that asks the user to enter a number and prints out all the divisors of that number."
   ]
  },
  {
   "cell_type": "code",
   "execution_count": null,
   "id": "3b622011",
   "metadata": {},
   "outputs": [],
   "source": [
    "N = 35486\n",
    "for i in range(1, N+1):\n",
    "    if not N % i:\n",
    "        print(i)"
   ]
  },
  {
   "cell_type": "markdown",
   "id": "c3f1426e",
   "metadata": {},
   "source": [
    "11. Write a program that asks the user for an hour between 1 and 12, asks them to enter am or pm, and asks them how many hours into the future they want to go. Print out what the hour will be that many hours into the future, printing am or pm as appropriate."
   ]
  },
  {
   "cell_type": "code",
   "execution_count": null,
   "id": "dc2eca96",
   "metadata": {},
   "outputs": [],
   "source": [
    "user_hour = eval(input('Pick an hour from 1-12: '))\n",
    "am_pm = input('Is it am or pm? ')\n",
    "hour_forward = eval(input('How many hours would you like to go forward? '))\n",
    "if (hour_forward + user_hour) > 12:\n",
    "    if am_pm.lower() == 'am':\n",
    "        print(f'Your hours is {(hour_forward + user_hour)%12}pm.')\n",
    "    elif am_pm.lower() == 'pm':\n",
    "        print(f'Your hours is {(hour_forward + user_hour) % 12}am.')\n",
    "else:\n",
    "    print(f'Your hours is {(hour_forward + user_hour) % 12} {am_pm}.')"
   ]
  },
  {
   "cell_type": "markdown",
   "id": "535fe608",
   "metadata": {},
   "source": [
    "12. A jar of Halloween candy contains an unknown amount of candy and if you can guess exactly how much candy is in the bowl, then you win all the candy. You ask the person in charge the following: If the candy is divided evenly among 5 people, how many pieces would be left over? The answer is 2 pieces. You then ask about dividing the candy evenly among 6 people, and the amount left over is 3 pieces. Finally, you ask about dividing the candy evenly among 7 people, and the amount left over is 2 pieces. By looking at the bowl, you can tell that there are less than 200 pieces. Write a program to determine how many pieces are in the bowl."
   ]
  },
  {
   "cell_type": "code",
   "execution_count": null,
   "id": "419affb7",
   "metadata": {},
   "outputs": [],
   "source": [
    "for i in range(200):\n",
    "    if i % 5 == i % 7 == 2 and i % 6 == 3:\n",
    "        print(i)"
   ]
  },
  {
   "cell_type": "markdown",
   "id": "0fcbba87",
   "metadata": {},
   "source": [
    "13. Write a program that lets the user play Rock-Paper-Scissors against the computer. There should be five rounds, and after those five rounds, your program should print out who won and lost or that there is a tie."
   ]
  },
  {
   "cell_type": "code",
   "execution_count": null,
   "id": "fc155c79",
   "metadata": {},
   "outputs": [],
   "source": [
    "from random import randint\n",
    "valid_answers = {'Rock': 0, 'Paper': 1, 'Scissor': 2}\n",
    "result_matrix = [[0, -1, 1], [1, 0, -1], [-1, 1, 0]]  # result_matrix[user_choice][computer_choice]/\n",
    "# 1:user wins, -1:comp wins, 0:tie\n",
    "print_resp = {0: 'Rock', 1: 'Paper', 2: 'Scissor'}\n",
    "user_res_dic = {'R': 'Rock', 'S': 'Scissor', 'P': 'Paper', 'Paper': 'Paper', 'Rock': 'Rock', 'Scissor': 'Scissor'}\n",
    "user_score = 0\n",
    "computer_score = 0\n",
    "rounds_played = 0\n",
    "rep = False\n",
    "\n",
    "\n",
    "def number_of_rounds():  # Checks the number of rounds user wants to play\n",
    "    while True:\n",
    "        round_input = input('How many rounds would you like to play?')\n",
    "        if round_input.isdigit():\n",
    "            print('*' * 70)\n",
    "            print(f'Let\\'s have fun for {round_input} rounds!' if int(round_input) > 1 else\n",
    "                  f'Let\\'s have fun for {round_input} round!')\n",
    "            print('You can exit the game at any time by pressing [Q/Quit]!')\n",
    "            print('-' * 70)\n",
    "            return int(round_input)\n",
    "        else:\n",
    "            print('Number of rounds must be an integer only. Please try again!')\n",
    "\n",
    "\n",
    "def exit_condition(user_response):  # checks whether the user wants to quit\n",
    "    if user_response.lower() == 'q' or user_response.lower() == 'quit':\n",
    "        print('We hope to see you soon!')\n",
    "        print(f'{\"*\" * 70}\\n{\"Final Results\".center(70)}\\nUser Score: {user_score}\\nComputer Score: {computer_score}')\n",
    "        if computer_score > user_score:\n",
    "            print('Computer Wins. Better luck next time!')\n",
    "        elif computer_score < user_score:\n",
    "            print('Congratulations. You Win!')\n",
    "        else:\n",
    "            print('Looks like someone\\'s as good as me!')\n",
    "        print('*' * 70)\n",
    "        exit()\n",
    "    else:\n",
    "        return user_response\n",
    "\n",
    "\n",
    "def answer_check():  # checks whether user's response is valid\n",
    "    while True:\n",
    "        user_choice = input(f'Round {rounds_played + 1}: What\\'s your choice?')\n",
    "        for string in user_choice.title().split(' '):\n",
    "            if string in user_res_dic:\n",
    "                return valid_answers[user_res_dic[string]]\n",
    "            else:\n",
    "                continue\n",
    "        else:\n",
    "            exit_condition(user_choice)\n",
    "            print('Please choose a valid option only to proceed!')\n",
    "\n",
    "\n",
    "def score_calc(ans1, ans2):  # Evaluates scores\n",
    "    global rounds_played, user_score, computer_score\n",
    "    final_results = result_matrix[ans1][ans2]\n",
    "    rounds_played += 1\n",
    "    if final_results == 0:\n",
    "        print('It\\'s a tie! Let\\'s try again!'.center(70, '_'))\n",
    "    elif final_results == 1:\n",
    "        user_score += 1\n",
    "        print('Damn! You Won!'.center(70, '_'))\n",
    "    else:\n",
    "        computer_score += 1\n",
    "        print('Ha Ha! I beat you!'.center(70, '_'))\n",
    "    return f'Round {rounds_played}: My choice was \"{print_resp[ans2]}\", ' \\\n",
    "           f'Your choice was \"{print_resp[ans1]}\"\\nUser Score: {user_score}\\n' \\\n",
    "           f'Computer Score: {computer_score}\\n{\"=\"*70}'\n",
    "\n",
    "\n",
    "def round_check(num_of_rounds):  # Checks whether rounds' limit is reached\n",
    "    if user_score + computer_score == num_of_rounds:\n",
    "        print(f'{\"*\" * 70}\\n{\"Final Results\".center(70)}\\nUser Score: {user_score}\\nComputer Score: {computer_score}')\n",
    "        if computer_score > user_score:\n",
    "            print('Computer Wins. Better luck next time!')\n",
    "        elif computer_score < user_score:\n",
    "            print('Congratulations. You Win!')\n",
    "        else:\n",
    "            print('Looks like someone\\'s as good as me!')\n",
    "        print('*' * 70)\n",
    "        return False\n",
    "    else:\n",
    "        return True\n",
    "\n",
    "\n",
    "def repeat():  # Asks the user to see whether they want to play again\n",
    "    while True:\n",
    "        rpt = input('Would you like to play again? [Yes/No]')\n",
    "        if rpt.upper() == 'YES' or rpt.upper() == 'Y':\n",
    "            res()\n",
    "            rps()\n",
    "        elif rpt.upper() == 'NO' or rpt.upper() == 'N':\n",
    "            print('Playing with you was fun :)')\n",
    "            return False\n",
    "        else:\n",
    "            print(\"Please answer with [Yes/No] only!\")\n",
    "\n",
    "\n",
    "def res():  # If user wants to play the game, resets the scores\n",
    "    global user_score, computer_score, rounds_played, rep\n",
    "    user_score = 0\n",
    "    computer_score = 0\n",
    "    rounds_played = 0\n",
    "    rep = True\n",
    "    return user_score, computer_score, rounds_played, rep\n",
    "\n",
    "\n",
    "def rps():  # All together - Rock-Paper-Scissor\n",
    "    if not rep:\n",
    "        print(f'{\"*\"*70}\\n{\"Welcome to my Game\".center(70)}\\nWe are going to play the old school Rock-Paper-Scissor '\n",
    "              f'game!\\nRules are easy:\\n\\t1)Rock smashes Scissor\\n\\t2)Paper covers Rock\\n\\t3)Scissor cuts Paper'\n",
    "              f'\\nCan you beat me? :D\\n{\"*\"*70}')\n",
    "    rounds_2_play = number_of_rounds()\n",
    "    while round_check(rounds_2_play):\n",
    "        user_ans = answer_check()\n",
    "        print(score_calc(user_ans, randint(0, 2)))\n",
    "    else:\n",
    "        repeat()"
   ]
  }
 ],
 "metadata": {
  "kernelspec": {
   "display_name": "Python 3 (ipykernel)",
   "language": "python",
   "name": "python3"
  },
  "language_info": {
   "codemirror_mode": {
    "name": "ipython",
    "version": 3
   },
   "file_extension": ".py",
   "mimetype": "text/x-python",
   "name": "python",
   "nbconvert_exporter": "python",
   "pygments_lexer": "ipython3",
   "version": "3.9.7"
  }
 },
 "nbformat": 4,
 "nbformat_minor": 5
}
