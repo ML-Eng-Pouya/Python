{
 "cells": [
  {
   "cell_type": "markdown",
   "id": "29a4e8d8",
   "metadata": {},
   "source": [
    "## Answers to Chapter 6 Exercises"
   ]
  },
  {
   "cell_type": "markdown",
   "id": "338e76c9",
   "metadata": {},
   "source": [
    "1. Write a program that asks the user to enter a string. The program should then print the following: (a) The total number of characters in the string (b) The string repeated 10 times (c) The first character of the string (remember that string indices start at 0)(d) The first three characters of the string (e) The last three characters of the string (f) The string backwards (g) The seventh character of the string if the string is long enough and a message otherwise (h) The string with its first and last characters removed (i) The string in all caps (j) The string with every a replaced with an e (k) The string with every letter replaced by a space"
   ]
  },
  {
   "cell_type": "code",
   "execution_count": null,
   "id": "3c600291",
   "metadata": {},
   "outputs": [],
   "source": [
    "user_input = input('Enter a text: ')\n",
    "a = len(user_input)\n",
    "for i in range(10):\n",
    "    print(user_input)\n",
    "c = user_input[0]\n",
    "d = user_input[:3]\n",
    "e = user_input[-3:]\n",
    "f = user_input[::-1]\n",
    "g = user_input[6] if len(user_input) > 7 else print('Text is not long enough')\n",
    "h = user_input[1:-1]\n",
    "i = user_input.upper()\n",
    "j = user_input.replace('a', 'e')\n",
    "k = user_input[:]\n",
    "for char in user_input:\n",
    "    k = k.replace(char, ' ')\n",
    "print(k)"
   ]
  },
  {
   "cell_type": "markdown",
   "id": "1ea3a758",
   "metadata": {},
   "source": [
    "2. A simple way to estimate the number of words in a string is to count the number of spaces in the string. Write a program that asks the user for a string and returns an estimate of how many words are in the string."
   ]
  },
  {
   "cell_type": "code",
   "execution_count": null,
   "id": "6ad2ab78",
   "metadata": {},
   "outputs": [],
   "source": [
    "from string import punctuation\n",
    "user_input = input('Enter a text: ')\n",
    "new_str = ''\n",
    "for char in user_input:\n",
    "    if char not in punctuation:\n",
    "        new_str += char\n",
    "words = set(new_str.lower().split())"
   ]
  },
  {
   "cell_type": "markdown",
   "id": "201ea7e5",
   "metadata": {},
   "source": [
    "7. Write a program that asks the user to enter a word and determines whether the word is a palindrome or not. A palindrome is a word that reads the same backwards as forwards."
   ]
  },
  {
   "cell_type": "code",
   "execution_count": null,
   "id": "ca1d3095",
   "metadata": {
    "scrolled": true
   },
   "outputs": [],
   "source": [
    "my_str = input('Enter a word: ')\n",
    "if my_str.lower() == my_str[::-1].lower():\n",
    "    print('Palindrome')\n",
    "else:\n",
    "    print('Not a Palindrome')"
   ]
  },
  {
   "cell_type": "markdown",
   "id": "bd61cb83",
   "metadata": {},
   "source": [
    "9. Ask the user for a number and then print the following, where the pattern ends at the number that the user enters."
   ]
  },
  {
   "cell_type": "code",
   "execution_count": null,
   "id": "ea036039",
   "metadata": {
    "scrolled": true
   },
   "outputs": [],
   "source": [
    "user_num = eval(input('Enter a number:'))\n",
    "for i in range(1, user_num):\n",
    "    print(' '*i, i)"
   ]
  },
  {
   "cell_type": "markdown",
   "id": "96aef43c",
   "metadata": {},
   "source": [
    "12. Write a program that asks the user to enter a word and then capitalizes every other letter of that word. So if the user enters rhinoceros, the program should print rHiNoCeRoS."
   ]
  },
  {
   "cell_type": "code",
   "execution_count": null,
   "id": "4ebcb84d",
   "metadata": {},
   "outputs": [],
   "source": [
    "user_input = input('Enter a word:')\n",
    "user_word = ''\n",
    "for i in range(len(user_input)):\n",
    "    if i % 2 != 0:\n",
    "        user_word += user_input[i].upper()\n",
    "    else:\n",
    "        user_word += user_input[i]\n",
    "user_word"
   ]
  }
 ],
 "metadata": {
  "kernelspec": {
   "display_name": "Python 3 (ipykernel)",
   "language": "python",
   "name": "python3"
  },
  "language_info": {
   "codemirror_mode": {
    "name": "ipython",
    "version": 3
   },
   "file_extension": ".py",
   "mimetype": "text/x-python",
   "name": "python",
   "nbconvert_exporter": "python",
   "pygments_lexer": "ipython3",
   "version": "3.9.7"
  }
 },
 "nbformat": 4,
 "nbformat_minor": 5
}
