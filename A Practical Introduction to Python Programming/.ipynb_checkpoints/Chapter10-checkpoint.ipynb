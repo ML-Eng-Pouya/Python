{
 "cells": [
  {
   "cell_type": "markdown",
   "id": "5304749b",
   "metadata": {},
   "source": [
    "# Answers to Chpater 10 Exercises"
   ]
  },
  {
   "cell_type": "markdown",
   "id": "756a27ef",
   "metadata": {},
   "source": [
    "1. Write a program that uses list and range to create the list [3,6, 9, . . . , 99]."
   ]
  },
  {
   "cell_type": "code",
   "execution_count": null,
   "id": "92ae42e4",
   "metadata": {},
   "outputs": [],
   "source": [
    "print(list(i for i in range(3, 100, 3)))"
   ]
  },
  {
   "cell_type": "markdown",
   "id": "f4ce46c0",
   "metadata": {},
   "source": [
    "3. Write a program that asks the user to enter a word. Rearrange all the letters of the word in alphabetical order and print out the resulting word. For example, abracadabra should become aaaaabbcdrr."
   ]
  },
  {
   "cell_type": "code",
   "execution_count": null,
   "id": "a124275f",
   "metadata": {},
   "outputs": [],
   "source": [
    "word = 'abracadabra'\n",
    "print(''.join(sorted(word)))"
   ]
  },
  {
   "cell_type": "markdown",
   "id": "4560d9e8",
   "metadata": {},
   "source": [
    "7. Write a program that creates the list [1,11,111,1111,...,111...1], where the entries have an ever increasing number of ones, with the last entry having 100 ones."
   ]
  },
  {
   "cell_type": "code",
   "execution_count": null,
   "id": "9abce623",
   "metadata": {},
   "outputs": [],
   "source": [
    "num = 0\n",
    "result = list()\n",
    "for i in range(1, 101):\n",
    "    for j in range(i):\n",
    "        num += 10**j\n",
    "    else:\n",
    "        result.append(num)\n",
    "        num = 0\n",
    "else:\n",
    "    print(result)"
   ]
  },
  {
   "cell_type": "markdown",
   "id": "25c3896a",
   "metadata": {},
   "source": [
    "8. Write a program to find all numbers between 1 and 1000 that are divisible by 7 and end in a 6."
   ]
  },
  {
   "cell_type": "code",
   "execution_count": null,
   "id": "547097bb",
   "metadata": {},
   "outputs": [],
   "source": [
    "my_list = []\n",
    "for i in range(1000):\n",
    "    if not i % 7 and str(i)[-1] == '6':\n",
    "        my_list.append(i)\n",
    "else:\n",
    "    print(len(my_list), my_list)"
   ]
  },
  {
   "cell_type": "markdown",
   "id": "6a2592d1",
   "metadata": {},
   "source": [
    "9. Write a program to determine how many of the numbers between 1 and 10000 contain the digit 3."
   ]
  },
  {
   "cell_type": "code",
   "execution_count": null,
   "id": "c22a3342",
   "metadata": {},
   "outputs": [],
   "source": [
    "counter = 0\n",
    "for i in range(10000):\n",
    "    if '3' in str(i):\n",
    "        counter += 1\n",
    "else:\n",
    "    print(counter)"
   ]
  },
  {
   "cell_type": "markdown",
   "id": "d1def021",
   "metadata": {},
   "source": [
    "10. Adding certain numbers to their reversals sometimes produces a palindromic number. For instance, 241 + 142 = 383. Sometimes, we have to repeat the process. For instance, 84 + 48 = 132 and 132 + 231 = 363. Write a program that finds both two-digit numbers for which this process must be repeated more than 20 times to obtain a palindromic number."
   ]
  },
  {
   "cell_type": "code",
   "execution_count": null,
   "id": "c396a411",
   "metadata": {},
   "outputs": [],
   "source": [
    "def palindromic_check(x):\n",
    "    if str(num) == str(num)[::-1]:\n",
    "        return False\n",
    "    else:\n",
    "        return True\n",
    "\n",
    "def reversal_addition(x):\n",
    "    return num + int(str(num)[::-1])\n",
    "\n",
    "for num in range(10, 100):\n",
    "    counter = 0\n",
    "    temp_num = num\n",
    "    while palindromic_check(num):\n",
    "        num = reversal_addition(num)\n",
    "        counter += 1\n",
    "    else:\n",
    "        if counter > 20:\n",
    "            print(f'For {temp_num}, {counter} try was required to obtain a palindromic number.')"
   ]
  },
  {
   "cell_type": "markdown",
   "id": "32542a3a",
   "metadata": {},
   "source": [
    "12. The number 1961 reads the same upside-down as right-side up. Print out all the numbers between 1 and 100000 that read the same upside-down as right-side up."
   ]
  },
  {
   "cell_type": "code",
   "execution_count": null,
   "id": "d285b209",
   "metadata": {},
   "outputs": [],
   "source": [
    "possible_numbers = list()\n",
    "for i in range(100000):\n",
    "    for j in list(str(i)):\n",
    "        if j not in ['0', '1', '6', '8', '9']:\n",
    "            break\n",
    "    else:\n",
    "        possible_numbers.append(i)\n",
    "\n",
    "final_list = list()\n",
    "for num in possible_numbers:\n",
    "    new_num = ''\n",
    "    rev_num = str(num)[::-1]\n",
    "    for k in rev_num:\n",
    "        if k == '9':\n",
    "            new_num += '6'\n",
    "        elif k == '6':\n",
    "            new_num += '9'\n",
    "        else:\n",
    "            new_num += k\n",
    "    else:\n",
    "        if int(new_num) == num:\n",
    "            final_list.append(num)\n",
    "else:\n",
    "    print(final_list)"
   ]
  },
  {
   "cell_type": "markdown",
   "id": "edf420ba",
   "metadata": {},
   "source": [
    "13. The number 99 has the property that if we multiply its digits together and then add the sum of its digits to that, we get back to 99. That is, (9 × 9) + (9 + 9) = 99. Write a program to find all of the numbers less than 10000 with this property. (There are only nine of them.)"
   ]
  },
  {
   "cell_type": "code",
   "execution_count": null,
   "id": "da67f571",
   "metadata": {},
   "outputs": [],
   "source": [
    "def num_product(num):\n",
    "    prod = 1\n",
    "    for i in str(num):\n",
    "        prod *= int(i)\n",
    "    return prod\n",
    "\n",
    "def num_sum(num):\n",
    "    summation = 0\n",
    "    for j in str(num):\n",
    "        summation += int(j)\n",
    "    return summation\n",
    "\n",
    "for i in range(1, 10000):\n",
    "    if num_sum(i) + num_product(i) == i:\n",
    "        print(i)"
   ]
  },
  {
   "cell_type": "markdown",
   "id": "1a09f5d6",
   "metadata": {},
   "source": [
    "15. Write a program to determine how many zeroes 1000! ends with."
   ]
  },
  {
   "cell_type": "code",
   "execution_count": null,
   "id": "d0bbe1a9",
   "metadata": {},
   "outputs": [],
   "source": [
    "import math\n",
    "num = math.factorial(1000)\n",
    "reverse = str(num)[::-1]\n",
    "counter = 0\n",
    "for i in reverse:\n",
    "    if i == '0':\n",
    "        counter += 1\n",
    "    else:\n",
    "        print(counter)\n",
    "        break"
   ]
  },
  {
   "cell_type": "markdown",
   "id": "8a45612f",
   "metadata": {},
   "source": [
    "21. Write a program that asks the user to enter a fraction in the form of a string like '1/2' or '8/24'. The program should reduce the fraction to lowest terms and print out the result."
   ]
  },
  {
   "cell_type": "code",
   "execution_count": null,
   "id": "81c45197",
   "metadata": {},
   "outputs": [],
   "source": [
    "user_string = '8/24'\n",
    "i, j = [int(k) for k in user_string.split('/')]\n",
    "common_div = 0\n",
    "for k in range(1, min(i, j) + 1):\n",
    "    if i % k == j % k == 0:\n",
    "        common_div = k\n",
    "else:\n",
    "    i = str(int(i/common_div))\n",
    "    j = str(int(j/common_div))\n",
    "    reduced_fraction = '/'.join((i, j))\n",
    "print(reduced_fraction)"
   ]
  },
  {
   "cell_type": "markdown",
   "id": "9f16dc1e",
   "metadata": {},
   "source": [
    "22. Write a program to find all four solutions to the following problem: If a starfruit is worth 5, a mango is worth 3, and three oranges together cost 1, how many starfruits, mangoes, and oranges, totaling 100, can be bought for 100?"
   ]
  },
  {
   "cell_type": "code",
   "execution_count": null,
   "id": "5f0683bf",
   "metadata": {},
   "outputs": [],
   "source": [
    "starfruit = mango = orange = 0\n",
    "possible_answers = []\n",
    "for starfruit in range(1, 20):\n",
    "    for mango in range(starfruit):\n",
    "        for orange in range(mango):\n",
    "            if 5*starfruit+3*mango+(1/3)*orange == 100:\n",
    "                possible_answers.append((starfruit, mango, orange))\n",
    "else:\n",
    "    print(possible_answers)"
   ]
  },
  {
   "cell_type": "markdown",
   "id": "791ea9c6",
   "metadata": {},
   "source": [
    "24. Here is an old puzzle you can solve using brute force by using a computer program to check all the possibilities: In the calculation 43 + 57 = 207, every digit is precisely one away from its true value. What is the correct calculation?"
   ]
  },
  {
   "cell_type": "code",
   "execution_count": null,
   "id": "91502989",
   "metadata": {},
   "outputs": [],
   "source": [
    "def change_num(num: int, valid_moves: list):\n",
    "    possible_choices = list()\n",
    "    for item in valid_moves:\n",
    "        new_num = ''\n",
    "        for i in range(len(item)):\n",
    "            temp = str(int(str(num)[i])+item[i])\n",
    "            if temp.isdigit():\n",
    "                new_num += temp\n",
    "            else:\n",
    "                break\n",
    "        else:\n",
    "            possible_choices.append(int(new_num))\n",
    "    else:\n",
    "        return possible_choices\n",
    "\n",
    "x = 43\n",
    "y = 57\n",
    "z = 207\n",
    "\n",
    "x2d = [(i, j) for i in [-1, 1] for j in [-1, 1]]\n",
    "x3d = [(i, j, k) for i in [-1, 1] for j in [-1, 1] for k in [-1, 1]]\n",
    "\n",
    "x_list = change_num(x, x2d)\n",
    "y_list = change_num(y, x2d)\n",
    "z_list = change_num(z, x3d)\n",
    "\n",
    "for i in z_list:\n",
    "    for j in y_list:\n",
    "        for k in x_list:\n",
    "            if i == j + k:\n",
    "                print((k, j, i))"
   ]
  },
  {
   "cell_type": "markdown",
   "id": "c1360a34",
   "metadata": {},
   "source": [
    "25. Write a program that finds all integer solutions to Pell’s equation x2 − 2y2 = 1, where x and y are between 1 and 100."
   ]
  },
  {
   "cell_type": "code",
   "execution_count": null,
   "id": "badb2080",
   "metadata": {},
   "outputs": [],
   "source": [
    "for x in range(1, 101):\n",
    "    for y in range(1, 101):\n",
    "        if x**2 - 2 * y**2 == 1:\n",
    "            print(x, y)"
   ]
  },
  {
   "cell_type": "markdown",
   "id": "652ebada",
   "metadata": {},
   "source": [
    "26. Write a program that asks the user for a number and prints out all the ways to write the number as difference of two perfect squares, x2 − y2, where x and y are both between 1 and 1000."
   ]
  },
  {
   "cell_type": "code",
   "execution_count": null,
   "id": "879dea3f",
   "metadata": {},
   "outputs": [],
   "source": [
    "N = eval(input('Enter a number: '))\n",
    "for x in range(1, 1001):\n",
    "    for y in range(1, 1001):\n",
    "        if x**2 - y**2 == N:\n",
    "            print(x, y)"
   ]
  },
  {
   "cell_type": "markdown",
   "id": "b4f7c5ed",
   "metadata": {},
   "source": [
    "27. Write a program that simulates all possible rolls of four dice and for each simulated roll, finds the sums of pairs of dice. For instance, if the roll is 5 1 2 4, the sums are 6, 8, 9, 3 ,5, and 6. For each of the possible sums from 2 to 12, find the total number of simulated rolls in which the sum appears and what percentage of the simulated rolls had those sums appear. Output the totals and percentages, nicely formatted, with the percentages formatted to one decimal place. To check your work, you should find that the sum 2 comes up in 171 rolls, which is 13.2% of the rolls."
   ]
  },
  {
   "cell_type": "code",
   "execution_count": null,
   "id": "b65d6a20",
   "metadata": {},
   "outputs": [],
   "source": [
    "from random import randint\n",
    "N = 1000\n",
    "number_of_dice = 4\n",
    "pairs_sum = {i: 0 for i in range(2, 13)}\n",
    "for _ in range(N):\n",
    "    rolls = list()\n",
    "    for j in range(number_of_dice):\n",
    "        rolls.append(randint(1, 6))\n",
    "    for i in range(number_of_dice):\n",
    "        for j in range(1, number_of_dice):\n",
    "            if i < j:\n",
    "                pairs_sum[rolls[i]+rolls[j]] += 1\n",
    "else:\n",
    "    for item in pairs_sum.items():\n",
    "        print(f'Sum {item[0]} comes up in {item[1]}  rolls.')"
   ]
  },
  {
   "cell_type": "markdown",
   "id": "20e4c292",
   "metadata": {},
   "source": [
    "30. Pascal’s triangle is shown below. On the outside are 1’s and each other number is the sum of the two numbers directly above it. Write a program to generate Pascal’s triangle. Allow the user to specify the number of rows."
   ]
  },
  {
   "cell_type": "code",
   "execution_count": null,
   "id": "07550d74",
   "metadata": {},
   "outputs": [],
   "source": [
    "N = 10\n",
    "last_row = [1]\n",
    "for i in range(1, N):\n",
    "    if i == 1:\n",
    "        print(str(last_row).center(100))\n",
    "        last_row = [1, 1]\n",
    "    else:\n",
    "        current_row = [1, *[last_row[i]+last_row[j] for i, j in zip(range(len(last_row)), range(1, len(last_row)))], 1]\n",
    "        last_row = current_row\n",
    "        print(str(current_row).center(100))"
   ]
  }
 ],
 "metadata": {
  "kernelspec": {
   "display_name": "Python 3 (ipykernel)",
   "language": "python",
   "name": "python3"
  },
  "language_info": {
   "codemirror_mode": {
    "name": "ipython",
    "version": 3
   },
   "file_extension": ".py",
   "mimetype": "text/x-python",
   "name": "python",
   "nbconvert_exporter": "python",
   "pygments_lexer": "ipython3",
   "version": "3.9.7"
  }
 },
 "nbformat": 4,
 "nbformat_minor": 5
}
