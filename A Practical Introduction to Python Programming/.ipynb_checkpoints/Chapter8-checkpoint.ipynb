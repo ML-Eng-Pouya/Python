{
 "cells": [
  {
   "cell_type": "markdown",
   "id": "f51ccf70",
   "metadata": {},
   "source": [
    "# Answers to Chapter 8 Exercises"
   ]
  },
  {
   "cell_type": "markdown",
   "id": "89769d1d",
   "metadata": {},
   "source": [
    "1. Write a program that asks the user to enter some text and then counts how many articles are in the text. Articles are the words 'a', 'an', and 'the'."
   ]
  },
  {
   "cell_type": "code",
   "execution_count": 1,
   "id": "47b298b8",
   "metadata": {},
   "outputs": [
    {
     "name": "stdout",
     "output_type": "stream",
     "text": [
      "Enter a sentence or a paragraph: I checked in for the night at Out O The Way motel. What a bad choice that was. First I took a shower and a spider crawled out of the drain. Next, the towel rack fell down when I reached for the one small bath towel. This allowed the towel to fall halfway into the toilet. I tried to watch a movie, but the remote control was sticky and wouldn’t stop scrolling through the channels. I gave up for the night and crawled into bed. I stretched out my leg and felt something furry by my foot. Filled with fear, I reached down and to my surprise, I pulled out a raccoon skin pair of underwear. After my initial relief that it wasn’t alive, the image of a fat, ugly businessman wearing raccoon skin briefs filled my brain. I jumped out of the bed, threw my toothbrush into my bag, and sprinted towards my car.\n",
      "There are 6 \"a\", 0 \"an\" and 12 \"the\" in your sentence.\n"
     ]
    }
   ],
   "source": [
    "user_input = input('Enter a sentence or a paragraph: ')\n",
    "num_a = 0\n",
    "num_an = 0\n",
    "num_the = 0\n",
    "for item in user_input.split():\n",
    "    if item.lower() == 'an':\n",
    "        num_an += 1\n",
    "    if item.lower() == 'a':\n",
    "        num_a += 1\n",
    "    if item.lower() == 'the':\n",
    "        num_the += 1\n",
    "else:\n",
    "    print(f'There are {num_a} \"a\", {num_an} \"an\" and {num_the} \"the\" in your sentence.')"
   ]
  },
  {
   "cell_type": "markdown",
   "id": "bc8243c1",
   "metadata": {},
   "source": [
    "2. Write a program that allows the user to enter five numbers (read as strings). Create a string that consists of the user’s numbers separated by plus signs. For instance, if the user enters 2, 5, 11, 33, and 55, then the string should be '2+5+11+33+55'."
   ]
  },
  {
   "cell_type": "code",
   "execution_count": 6,
   "id": "11d4b268",
   "metadata": {},
   "outputs": [
    {
     "name": "stdout",
     "output_type": "stream",
     "text": [
      "Enter a num: 2\n",
      "Enter a num: 5\n",
      "Enter a num: 11\n",
      "Enter a num: 33\n",
      "Enter a num: 55\n",
      "2+5+11+33+55\n"
     ]
    }
   ],
   "source": [
    "user_input = list()\n",
    "final_output = ''\n",
    "for i in range(5):\n",
    "    user_input.append(input('Enter a num: '))\n",
    "final_output = '+'.join(user_input)\n",
    "print(final_output)"
   ]
  },
  {
   "cell_type": "markdown",
   "id": "4dc29e15",
   "metadata": {},
   "source": [
    "10. Write a censoring program. Allow the user to enter some text and your program should print out the text with all the curse words starred out. The number of stars should match the length of the curse word. For the purposes of this program, just use the“curse” words darn, dang, freakin, heck, and shoot."
   ]
  },
  {
   "cell_type": "code",
   "execution_count": 12,
   "id": "470d37c3",
   "metadata": {},
   "outputs": [
    {
     "name": "stdout",
     "output_type": "stream",
     "text": [
      "Enter a sentence or a paragraph: Oh shoot, I thought I had the dang problem figured out. Darn it. Oh well, it was a heck of a freakin try.\n",
      "Oh shoot I thought I had the dang problem figured out Darn it Oh well it was a heck of a freakin try\n"
     ]
    }
   ],
   "source": [
    "from string import punctuation\n",
    "user_input = input('Enter a sentence or a paragraph: ')\n",
    "punc_free = user_input[:]\n",
    "curse_words = ['darn', 'dang', 'freakin', 'heck', 'shoot']\n",
    "censored_text = ''\n",
    "for word in user_input:\n",
    "    if word in punctuation:\n",
    "        punc_free = punc_free.replace(word, '')\n",
    "print(punc_free)\n",
    "for word in punc_free.split():\n",
    "    if word.lower() in curse_words:\n",
    "        censored_text += len(word)*'*' + ' '\n",
    "    else:\n",
    "        censored_text += word + ' '"
   ]
  },
  {
   "cell_type": "markdown",
   "id": "70f8b1d3",
   "metadata": {},
   "source": [
    "14. Use a list comprehension to produce a list that consists of all palindromic numbers between 100 and 1000"
   ]
  },
  {
   "cell_type": "code",
   "execution_count": 16,
   "id": "2fadda67",
   "metadata": {},
   "outputs": [],
   "source": [
    "palindromic_nums = list(i for i in range(100, 1000) if str(i)[0] == str(i)[-1])"
   ]
  },
  {
   "cell_type": "markdown",
   "id": "d7a85f80",
   "metadata": {},
   "source": [
    "15. Use a list comprehension to create the list below, which consists of ones separated by increas\u0002ingly many zeroes. The last two ones in the list should be separated by ten zeroes. [1,1,0,1,0,0,1,0,0,0,1,0,0,0,0,1,....]"
   ]
  },
  {
   "cell_type": "code",
   "execution_count": 19,
   "id": "5aa9a256",
   "metadata": {},
   "outputs": [],
   "source": [
    "my_list = [1, *(j for i in range(11) for j in [*(0 for k in range(i)), 1])]"
   ]
  },
  {
   "cell_type": "markdown",
   "id": "82895c5d",
   "metadata": {},
   "source": [
    "16. Let L=[2,3,5,7,11,13,17,19,23,29,31,37,41,43,47]. Use a list comprehension to produce a list of the gaps between consecutive entries in L. Then find the maximum gap size and the percentage of gaps that have size 2."
   ]
  },
  {
   "cell_type": "code",
   "execution_count": 20,
   "id": "f06a1a9f",
   "metadata": {},
   "outputs": [],
   "source": [
    "L=[2,3,5,7,11,13,17,19,23,29,31,37,41,43,47]\n",
    "gap_size = [j-i for i,j in zip(L[:-1],L[1:])]\n",
    "gap_2 = gap_size.count(2)/(len(L)-1)*100\n",
    "max_gap = max(gap_size)"
   ]
  },
  {
   "cell_type": "markdown",
   "id": "26b13f45",
   "metadata": {},
   "source": [
    "18. Write a program that creates a 10×10 list of random integers between 1 and 100. Then do the following: (a) Print the list. (b) Find the largest value in the third row. (c) Find the smallest value in the sixth column."
   ]
  },
  {
   "cell_type": "code",
   "execution_count": 23,
   "id": "b704303b",
   "metadata": {},
   "outputs": [
    {
     "name": "stdout",
     "output_type": "stream",
     "text": [
      "20\n"
     ]
    }
   ],
   "source": [
    "import random\n",
    "my_list = [[random.randint(1, 100) for i in range(10)] for j in range(10)]\n",
    "max_3rd_row = max(my_list[2])\n",
    "smallest_6th_col = 101\n",
    "for row in my_list:\n",
    "    if row[5] < smallest_6th_col:\n",
    "        smallest_6th_col = row[5]\n",
    "else:\n",
    "    print(smallest_6th_col)"
   ]
  },
  {
   "cell_type": "markdown",
   "id": "056a49d9",
   "metadata": {},
   "source": [
    "19. Write a program that creates and prints an 8 × 8 list whose entries alternate between 1 and 2 in a checkerboard pattern, starting with 1 in the upper left corner"
   ]
  },
  {
   "cell_type": "code",
   "execution_count": null,
   "id": "603aeabb",
   "metadata": {},
   "outputs": [],
   "source": [
    "board = [[1 for i in range(8)] for j in range(8)]\n",
    "\n",
    "\n",
    "for row in range(8):\n",
    "    for col in range(8):\n",
    "        if row % 2 == 0 and col % 2 == 0:\n",
    "            board[row][col] = 1\n",
    "        elif row % 2 == 1 and col % 2 == 0:\n",
    "            board[row][col] = 2\n",
    "        elif row % 2 == 0 and col % 2 == 1:\n",
    "            board[row][col] = 2"
   ]
  },
  {
   "cell_type": "markdown",
   "id": "7930db63",
   "metadata": {},
   "source": [
    "20. Write a program that checks to see if a 4 × 4 list is a magic square. In a magic square, every row, column, and the two diagonals add up to the same value."
   ]
  },
  {
   "cell_type": "code",
   "execution_count": null,
   "id": "f652c64e",
   "metadata": {},
   "outputs": [],
   "source": []
  },
  {
   "cell_type": "markdown",
   "id": "0631a006",
   "metadata": {},
   "source": [
    "22. The following is useful as part of a program to play Battleship. Suppose you have a 5 × 5 list that consists of zeroes and ones. Ask the user to enter a row and a column. If the entry in the list at that row and column is a one, the program should print Hit and otherwise it should print Miss."
   ]
  },
  {
   "cell_type": "code",
   "execution_count": 24,
   "id": "7f03f94f",
   "metadata": {},
   "outputs": [
    {
     "name": "stdout",
     "output_type": "stream",
     "text": [
      "Out of 10,000 tries, your hit accuracy was: %68.16.\n"
     ]
    }
   ],
   "source": [
    "import random\n",
    "battle_board = [[random.randint(0, 1) for col in range(5)] for row in range(5)]\n",
    "N = 10000\n",
    "hit_count = 0\n",
    "miss_count = 0\n",
    "for i in range(N):\n",
    "    random_choice = [random.randint(0, 4), random.randint(0, 4)]\n",
    "    if battle_board[random_choice[0]][random_choice[1]]:\n",
    "        hit_count += 1\n",
    "    else:\n",
    "        miss_count += 1\n",
    "else:\n",
    "    print(f'Out of {N:,} tries, your hit accuracy was: %{hit_count/N*100:.2f}.')"
   ]
  },
  {
   "cell_type": "markdown",
   "id": "78da8ab0",
   "metadata": {},
   "source": [
    "23. This exercise is useful in creating a Memory game. Randomly generate a 6 × 6 list of assorted characters such that there are exactly two of each character."
   ]
  },
  {
   "cell_type": "code",
   "execution_count": 1,
   "id": "d5534893",
   "metadata": {},
   "outputs": [
    {
     "name": "stdout",
     "output_type": "stream",
     "text": [
      "[['c', 'b', 'x', 'b', 0, '$'],\n",
      " ['+', '+', 'c', 0, '<', '-'],\n",
      " [')', 'A', 'x', '!', 5, '#'],\n",
      " ['#', '(', 5, ':', 'z', '@'],\n",
      " ['@', 'z', '<', '$', 'N', '-'],\n",
      " ['A', '!', 'N', '(', ':', ')']]\n"
     ]
    }
   ],
   "source": [
    "from random import choice\n",
    "import pprint\n",
    "my_list = [0, '#', '@', 5, 'c', '+', '$', 'A', '!', 'z', ':', 'b', 'x', 'N', '-', ')', '(', '<']*2\n",
    "\n",
    "matrix = list([0 for i in range(6)] for j in range(6))\n",
    "for row in range(6):\n",
    "    for col in range(6):\n",
    "        item = choice(my_list)\n",
    "        matrix[row][col] = item\n",
    "        my_list.remove(item)\n",
    "else:\n",
    "    pprint.pprint(matrix)"
   ]
  },
  {
   "cell_type": "markdown",
   "id": "0127ea02",
   "metadata": {},
   "source": [
    "24. The following is useful in implementing computer players in a number of different games. Write a program that creates a 5 × 5 list consisting of zeroes and ones. Your program should then pick a random location in the list that contains a zero and change it to a one. If all the entries are one, the program should say so"
   ]
  },
  {
   "cell_type": "code",
   "execution_count": null,
   "id": "18ed7160",
   "metadata": {},
   "outputs": [],
   "source": [
    "import random\n",
    "N = 5\n",
    "my_list = [[random.randint(0, 1) for i in range(N)] for j in range(N)]\n",
    "\n",
    "tried_list = []\n",
    "while len(tried_list) < N**2:\n",
    "    i, j = random.randint(0, N-1), random.randint(0, N-1)\n",
    "    if (i, j) not in tried_list:\n",
    "        if not my_list[i][j]:\n",
    "            my_list[i][j] = 1\n",
    "            tried_list.append((i, j))\n",
    "        else:\n",
    "            tried_list.append((i, j))\n",
    "else:\n",
    "    print('All Ones')"
   ]
  }
 ],
 "metadata": {
  "kernelspec": {
   "display_name": "Python 3 (ipykernel)",
   "language": "python",
   "name": "python3"
  },
  "language_info": {
   "codemirror_mode": {
    "name": "ipython",
    "version": 3
   },
   "file_extension": ".py",
   "mimetype": "text/x-python",
   "name": "python",
   "nbconvert_exporter": "python",
   "pygments_lexer": "ipython3",
   "version": "3.9.7"
  }
 },
 "nbformat": 4,
 "nbformat_minor": 5
}
