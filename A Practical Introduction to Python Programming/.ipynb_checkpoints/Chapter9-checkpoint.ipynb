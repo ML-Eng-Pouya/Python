{
 "cells": [
  {
   "cell_type": "markdown",
   "id": "e11c9ecf",
   "metadata": {},
   "source": [
    "# Answers to Chapter 9 Exercises"
   ]
  },
  {
   "cell_type": "markdown",
   "id": "f34b8413",
   "metadata": {},
   "source": [
    "1. The code below prints the numbers from 1 to 50. Rewrite the code using a while loop to accomplish the same thing."
   ]
  },
  {
   "cell_type": "code",
   "execution_count": null,
   "id": "bb40e161",
   "metadata": {},
   "outputs": [],
   "source": [
    "counter = 0\n",
    "while counter < 50:\n",
    "    counter += 1\n",
    "    print(counter)"
   ]
  },
  {
   "cell_type": "markdown",
   "id": "30bafad0",
   "metadata": {},
   "source": [
    "2. (a) Write a program that uses a while loop (not a for loop) to read through a string and print the characters of the string one-by-one on separate lines. (b) Modify the program above to print out every second character of the string."
   ]
  },
  {
   "cell_type": "code",
   "execution_count": null,
   "id": "36f37e40",
   "metadata": {},
   "outputs": [],
   "source": [
    "my_str = 'ajfbvuearb[v;jzknbv;uaifbgvjafdlv'\n",
    "#a\n",
    "counter = 0\n",
    "while counter < len(my_str):\n",
    "    # print(my_str[counter])\n",
    "    counter += 1\n",
    "#b\n",
    "counter = 0\n",
    "while counter < len(my_str):\n",
    "    if counter % 2:\n",
    "        print(my_str[counter])\n",
    "    counter += 1"
   ]
  },
  {
   "cell_type": "markdown",
   "id": "aa21a1f2",
   "metadata": {},
   "source": [
    "3. A good program will make sure that the data its users enter is valid. Write a program that asks the user for a weight and converts it from kilograms to pounds. Whenever the user enters a weight below 0, the program should tell them that their entry is invalid and then ask them again to enter a weight. [Hint: Use a while loop, not an if statement]."
   ]
  },
  {
   "cell_type": "code",
   "execution_count": null,
   "id": "c81a0416",
   "metadata": {},
   "outputs": [],
   "source": [
    "user_input = eval(input('Enter your weight: '))\n",
    "while user_input < 0:\n",
    "    print('Entry is not valid.')\n",
    "    user_input = eval(input('Enter your weight: '))\n",
    "else:\n",
    "    print(f'You weigh {user_input*2.2} pounds.')"
   ]
  },
  {
   "cell_type": "markdown",
   "id": "1add3c92",
   "metadata": {},
   "source": [
    "4. Write a program that asks the user to enter a password. If the user enters the right password, the program should tell them they are logged in to the system. Otherwise, the program should ask them to reenter the password. The user should only get five tries to enter the password, after which point the program should tell them that they are kicked off of the system."
   ]
  },
  {
   "cell_type": "code",
   "execution_count": null,
   "id": "e76a47ac",
   "metadata": {},
   "outputs": [],
   "source": [
    "counter = 0\n",
    "password = 'amfvgiheaiuvvcd'\n",
    "while counter < 5:\n",
    "    pass_input = input('Enter your password: ')\n",
    "    counter += 1\n",
    "    if pass_input == password:\n",
    "        print('You are logged in.')\n",
    "        break\n",
    "    else:\n",
    "        print('Wrong Entry. Please try again.')\n",
    "else:\n",
    "    print('You are kicked off the system.')"
   ]
  },
  {
   "cell_type": "markdown",
   "id": "b220c8c1",
   "metadata": {},
   "source": [
    "8. The GCD (greatest common divisor) of two numbers is the largest number that both are di\u0002visible by. For instance, gcd(18, 42) is 6 because the largest number that both 18 and 42 are divisible by is 6. Write a program that asks the user for two numbers and computes their gcd. Shown below is a way to compute the GCD, called Euclid’s Algorithm. • First compute the remainder of dividing the larger number by the smaller number • Next, replace the larger number with the smaller number and the smaller number with the remainder. • Repeat this process until the smaller number is 0. The GCD is the last value of the larger number."
   ]
  },
  {
   "cell_type": "code",
   "execution_count": null,
   "id": "6a9fd3e8",
   "metadata": {},
   "outputs": [],
   "source": [
    "num_list = [42, 18]\n",
    "largest_num = max(num_list)\n",
    "smallest_num = min(num_list)\n",
    "mod = -1\n",
    "while mod != 0:\n",
    "    mod = largest_num % smallest_num\n",
    "    largest_num = smallest_num\n",
    "    smallest_num = mod\n",
    "else:\n",
    "    print(f' GCD is: {largest_num}')"
   ]
  },
  {
   "cell_type": "markdown",
   "id": "9d746802",
   "metadata": {},
   "source": [
    "9. Computing the square root of 5:"
   ]
  },
  {
   "cell_type": "code",
   "execution_count": null,
   "id": "91efe108",
   "metadata": {},
   "outputs": [],
   "source": [
    "num = 5\n",
    "a = 1\n",
    "b = (a + num/a)/2\n",
    "while abs(a-b) > 10**(-10):\n",
    "    a = b\n",
    "    b = (a + num / a) / 2\n",
    "else:\n",
    "    print(b)"
   ]
  }
 ],
 "metadata": {
  "kernelspec": {
   "display_name": "Python 3 (ipykernel)",
   "language": "python",
   "name": "python3"
  },
  "language_info": {
   "codemirror_mode": {
    "name": "ipython",
    "version": 3
   },
   "file_extension": ".py",
   "mimetype": "text/x-python",
   "name": "python",
   "nbconvert_exporter": "python",
   "pygments_lexer": "ipython3",
   "version": "3.9.7"
  }
 },
 "nbformat": 4,
 "nbformat_minor": 5
}
