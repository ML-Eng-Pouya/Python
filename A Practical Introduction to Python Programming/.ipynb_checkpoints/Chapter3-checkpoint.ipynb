{
 "cells": [
  {
   "cell_type": "markdown",
   "id": "7078e092",
   "metadata": {},
   "source": [
    "# Answers to Chapter 3 Exercises"
   ]
  },
  {
   "cell_type": "code",
   "execution_count": null,
   "id": "4dd57919",
   "metadata": {},
   "outputs": [],
   "source": [
    "import random"
   ]
  },
  {
   "cell_type": "markdown",
   "id": "2d56b46d",
   "metadata": {},
   "source": [
    "1. Write a program that generates and prints 50 random integers, each between 3 and 6."
   ]
  },
  {
   "cell_type": "code",
   "execution_count": null,
   "id": "8dd974a2",
   "metadata": {},
   "outputs": [],
   "source": [
    "for i in range(50):\n",
    "    print(random.randint(3, 6))"
   ]
  },
  {
   "cell_type": "markdown",
   "id": "77b37780",
   "metadata": {},
   "source": [
    "2. Write a program that generates a random number, x, between 1 and 50, a random number y between 2 and 5, and computes x^y."
   ]
  },
  {
   "cell_type": "code",
   "execution_count": null,
   "id": "860c00c2",
   "metadata": {},
   "outputs": [],
   "source": [
    "x = random.randint(1, 50)\n",
    "y = random.randint(2, 5)\n",
    "print(f'For x: {x} & y: {y}; x**y is: {x**y}')"
   ]
  },
  {
   "cell_type": "markdown",
   "id": "1de345b1",
   "metadata": {},
   "source": [
    "3. Write a program that generates a random number between 1 and 10 and prints your name that many times."
   ]
  },
  {
   "cell_type": "code",
   "execution_count": null,
   "id": "bfd32c5b",
   "metadata": {},
   "outputs": [],
   "source": [
    "i = random.randint(1, 10)\n",
    "print('Pouya Mohammadi\\n'*i)"
   ]
  },
  {
   "cell_type": "markdown",
   "id": "115d5113",
   "metadata": {},
   "source": [
    "4. Write a program that generates a random decimal number between 1 and 10 with two decimal places of accuracy. Examples are 1.23, 3.45, 9.80, and 5.00."
   ]
  },
  {
   "cell_type": "code",
   "execution_count": null,
   "id": "8037072d",
   "metadata": {},
   "outputs": [],
   "source": [
    "print(f'{random.random()*10:.2f}')"
   ]
  },
  {
   "cell_type": "markdown",
   "id": "c1ae034f",
   "metadata": {},
   "source": [
    "5. Write a program that generates 50 random numbers such that the first number is between 1 and 2, the second is between 1 and 3, the third is between 1 and 4, . . . , and the last is between 1 and 51."
   ]
  },
  {
   "cell_type": "code",
   "execution_count": null,
   "id": "9a56719c",
   "metadata": {},
   "outputs": [],
   "source": [
    "i = 2\n",
    "for j in range(50):\n",
    "    print(random.randint(1, i))\n",
    "    i += 1"
   ]
  },
  {
   "cell_type": "markdown",
   "id": "a2193452",
   "metadata": {},
   "source": [
    "6. Write a program that asks the user to enter two numbers, x and y, and computes |x−y|/(x+y)."
   ]
  },
  {
   "cell_type": "code",
   "execution_count": null,
   "id": "bda62512",
   "metadata": {},
   "outputs": [],
   "source": [
    "x, y = eval(input('Enter two numbers [separate them with comma]'))\n",
    "print(abs(x - y)/sum((x, y)))"
   ]
  },
  {
   "cell_type": "markdown",
   "id": "daf1f91b",
   "metadata": {},
   "source": [
    "7. Write a program that asks the user to enter an angle between −180◦ and 180◦. Using an expression with the modulo operator, convert the angle to its equivalent between 0◦ and 360◦."
   ]
  },
  {
   "cell_type": "code",
   "execution_count": null,
   "id": "0bea2850",
   "metadata": {},
   "outputs": [],
   "source": [
    "angle = eval(input('Enter and angle between -180 & 180: '))\n",
    "print(angle%360)"
   ]
  },
  {
   "cell_type": "markdown",
   "id": "3fbb69a2",
   "metadata": {},
   "source": [
    "8. Write a program that asks the user for a number of seconds and prints out how many minutes and seconds that is. For instance, 200 seconds is 3 minutes and 20 seconds. [Hint: Use the // operator to get minutes and the % operator to get seconds.]"
   ]
  },
  {
   "cell_type": "code",
   "execution_count": null,
   "id": "b38130fb",
   "metadata": {},
   "outputs": [],
   "source": [
    "seconds = eval(input('Enter a number of seconds: '))\n",
    "print(f'Your input value equals {seconds//60} minutes & {seconds%60} seconds.')"
   ]
  },
  {
   "cell_type": "markdown",
   "id": "bef4a787",
   "metadata": {},
   "source": [
    "9. Write a program that asks the user for an hour between 1 and 12 and for how many hours in the future they want to go. Print out what the hour will be that many hours into the future."
   ]
  },
  {
   "cell_type": "code",
   "execution_count": null,
   "id": "fbc05f95",
   "metadata": {},
   "outputs": [],
   "source": [
    "hours = eval(input('Enter hour: '))\n",
    "hours_ahead = eval(input('How many hours ahead: '))\n",
    "print(f'New Hour is {(hours_ahead+hours)%12} o\\'clock.')"
   ]
  },
  {
   "cell_type": "markdown",
   "id": "cbdf2712",
   "metadata": {},
   "source": [
    "10. (a) One way to find out the last digit of a number is to mod the number by 10. Write a program that asks the user to enter a power. Then find the last digit of 2 raised to that power.(b) One way to find out the last two digits of a number is to mod the number by 100. Write a program that asks the user to enter a power. Then find the last two digits of 2 raised to that power."
   ]
  },
  {
   "cell_type": "code",
   "execution_count": null,
   "id": "2f48f789",
   "metadata": {},
   "outputs": [],
   "source": [
    "num = eval(input('Enter a power: '))\n",
    "print(f'The last digit of 2 raised to the power of {num} is {2**num%10}.')\n",
    "print(f'The last 2-digits of 2 raised to the power of {num} is {2**num%100}.')"
   ]
  },
  {
   "cell_type": "markdown",
   "id": "ebdc1de9",
   "metadata": {},
   "source": [
    "12. Write a program that asks the user for a number and prints out the factorial of that number."
   ]
  },
  {
   "cell_type": "code",
   "execution_count": null,
   "id": "2e566e0f",
   "metadata": {},
   "outputs": [],
   "source": [
    "num = eval(input('Enter a power: '))\n",
    "fac = 1\n",
    "for i in range(num, 0, -1):\n",
    "    fac *= i\n",
    "else:\n",
    "    print(fac)"
   ]
  },
  {
   "cell_type": "markdown",
   "id": "958612d5",
   "metadata": {},
   "source": [
    "19. Write a program that draws “modular rectangles” like the ones below. The user specifies the\n",
    "width and height of the rectangle, and the entries start at 0 and increase typewriter fashion\n",
    "from left to right and top to bottom, but are all done mod 10. Below are examples of a 3 × 5\n",
    "rectangle and a 4 × 8."
   ]
  },
  {
   "cell_type": "code",
   "execution_count": null,
   "id": "655e01d9",
   "metadata": {},
   "outputs": [],
   "source": [
    "height, width = eval(input('Enter two numbers [separate them with comma]'))\n",
    "counter = 0\n",
    "for i in range(width*height):\n",
    "    if counter == width:\n",
    "        print()\n",
    "        counter = 1\n",
    "    else:\n",
    "        counter += 1\n",
    "    print(i % 10, end=' ')"
   ]
  }
 ],
 "metadata": {
  "kernelspec": {
   "display_name": "Python 3 (ipykernel)",
   "language": "python",
   "name": "python3"
  },
  "language_info": {
   "codemirror_mode": {
    "name": "ipython",
    "version": 3
   },
   "file_extension": ".py",
   "mimetype": "text/x-python",
   "name": "python",
   "nbconvert_exporter": "python",
   "pygments_lexer": "ipython3",
   "version": "3.9.7"
  }
 },
 "nbformat": 4,
 "nbformat_minor": 5
}
