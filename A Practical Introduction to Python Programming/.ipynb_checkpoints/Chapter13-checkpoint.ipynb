{
 "cells": [
  {
   "cell_type": "markdown",
   "id": "0361c66a",
   "metadata": {},
   "source": [
    "# Answers to Chapter 13 Exercises"
   ]
  },
  {
   "cell_type": "markdown",
   "id": "94455f5b",
   "metadata": {},
   "source": [
    "1. Write a function called rectangle that takes two integers m and n as arguments and prints out an m× n box consisting of asterisks."
   ]
  },
  {
   "cell_type": "code",
   "execution_count": null,
   "id": "3238288e",
   "metadata": {},
   "outputs": [],
   "source": [
    "def rectangle(m, n):\n",
    "    for _ in range(m):\n",
    "        print('*'*n)\n",
    "rectangle(5, 3)"
   ]
  },
  {
   "cell_type": "markdown",
   "id": "d45d2996",
   "metadata": {},
   "source": [
    "3. Write a function called sum_digits that is given an integer num and returns the sum of the digits of num."
   ]
  },
  {
   "cell_type": "code",
   "execution_count": null,
   "id": "1c223cde",
   "metadata": {},
   "outputs": [],
   "source": [
    "def sum_digits(n: int):\n",
    "    sum_val = 0\n",
    "    for i in range(len(str(n))):\n",
    "        sum_val += int(str(n)[i])\n",
    "    return sum_val"
   ]
  },
  {
   "cell_type": "markdown",
   "id": "02ada67a",
   "metadata": {},
   "source": [
    "4. The digital root of a number n is obtained as follows: Add up the digits n to get a new number. Add up the digits of that to get another new number. Keep doing this until you get a number that has only one digit. That number is the digital root."
   ]
  },
  {
   "cell_type": "code",
   "execution_count": null,
   "id": "a4d8e665",
   "metadata": {},
   "outputs": [],
   "source": [
    "def digital_root(n: int):\n",
    "    sum_val = 0\n",
    "    num = n\n",
    "    count = 0\n",
    "    while len(str(num)) != 1:\n",
    "        count += 1\n",
    "        sum_val = 0\n",
    "        for i in range(len(str(num))):\n",
    "            sum_val += int(str(num)[i])\n",
    "        num = sum_val\n",
    "    return sum_val, count\n",
    "\n",
    "#shortcut\n",
    "num = 49853\n",
    "ditital_root_num = num % 9"
   ]
  },
  {
   "cell_type": "markdown",
   "id": "21e7f0c5",
   "metadata": {},
   "source": [
    "7. Write a function that takes an integer n and returns a random integer with exactly n digits."
   ]
  },
  {
   "cell_type": "code",
   "execution_count": null,
   "id": "5eb26d40",
   "metadata": {},
   "outputs": [],
   "source": [
    "def random_int(n):\n",
    "    return random.randint(10**(n-1), 10**n-1)"
   ]
  },
  {
   "cell_type": "markdown",
   "id": "a147ae17",
   "metadata": {},
   "source": [
    "8. Write a function called number_of_factors that takes an integer and returns how many factors the number has."
   ]
  },
  {
   "cell_type": "code",
   "execution_count": null,
   "id": "c701e417",
   "metadata": {},
   "outputs": [],
   "source": [
    "def number_of_factors(n):\n",
    "    factors_list = list()\n",
    "    div = 2\n",
    "    remainder = n\n",
    "    while remainder != 1:\n",
    "        if not remainder % div:\n",
    "            factors_list.append(div)\n",
    "            remainder = remainder // div\n",
    "        else:\n",
    "            div += 1\n",
    "    return len(set(factors_list))"
   ]
  },
  {
   "cell_type": "markdown",
   "id": "fe5dcfcc",
   "metadata": {},
   "source": [
    "9. Write a function called factors that takes an integer and returns a list of its factors."
   ]
  },
  {
   "cell_type": "code",
   "execution_count": null,
   "id": "7c2d5ca5",
   "metadata": {},
   "outputs": [],
   "source": [
    "def factors(n):\n",
    "    factors_list = list()\n",
    "    div = 2\n",
    "    remainder = n\n",
    "    while remainder != 1:\n",
    "        if not remainder % div:\n",
    "            factors_list.append(div)\n",
    "            remainder = remainder // div\n",
    "        else:\n",
    "            div += 1\n",
    "    return factors_list"
   ]
  },
  {
   "cell_type": "markdown",
   "id": "f078de65",
   "metadata": {},
   "source": [
    "10. Write a function called closest that takes a list of numbers L and a number n and returns the largest element in L that is not larger than n."
   ]
  },
  {
   "cell_type": "code",
   "execution_count": null,
   "id": "e7da00dc",
   "metadata": {},
   "outputs": [],
   "source": [
    "def closest(l: list, n:int):\n",
    "    closest_num = 0\n",
    "    for i in sorted(l, reverse=True):\n",
    "        if i < n:\n",
    "            closest_num = i\n",
    "            return closest_num\n",
    "    else:\n",
    "        return 'Not Found'"
   ]
  },
  {
   "cell_type": "markdown",
   "id": "db2c78a4",
   "metadata": {},
   "source": [
    "11. Write a function called matches that takes two strings as arguments and returns how many matches there are between the strings. A match is where the two strings have the same character at the same index."
   ]
  },
  {
   "cell_type": "code",
   "execution_count": null,
   "id": "7fbae84f",
   "metadata": {},
   "outputs": [],
   "source": [
    "def matches(word1, word2):\n",
    "    count = 0\n",
    "    for i, j in zip(word1.lower(), word2.lower()):\n",
    "        if i == j:\n",
    "            count += 1\n",
    "    return count"
   ]
  },
  {
   "cell_type": "markdown",
   "id": "d3ae8da7",
   "metadata": {},
   "source": [
    "12. Write a function called findall that given a string and a single character, returns a list containing all of the locations of that character in the string. It should return an empty list if there are no occurrences of the character in the string."
   ]
  },
  {
   "cell_type": "code",
   "execution_count": null,
   "id": "02281737",
   "metadata": {},
   "outputs": [],
   "source": [
    "def findall(word: str, string:str):\n",
    "    all_occ = list()\n",
    "    for i in range(len(word)):\n",
    "        if word[i].lower() == string.lower():\n",
    "            all_occ.append(i)\n",
    "    return all_occ"
   ]
  },
  {
   "cell_type": "markdown",
   "id": "cc1b9b2f",
   "metadata": {},
   "source": [
    "13. Write a function called change_case that given a string, returns a string with each upper case letter replaced by a lower case letter and vice-versa."
   ]
  },
  {
   "cell_type": "code",
   "execution_count": null,
   "id": "41aa8d3d",
   "metadata": {},
   "outputs": [],
   "source": [
    "def change_case(word):\n",
    "    new_word = ''\n",
    "    for char in word:\n",
    "        if char.isupper():\n",
    "            new_word += char.lower()\n",
    "        else:\n",
    "            new_word += char.upper()\n",
    "    return new_word"
   ]
  },
  {
   "cell_type": "markdown",
   "id": "5466ea1a",
   "metadata": {},
   "source": [
    "16. Write a function called one_away that takes two strings and returns True if the strings are of the same length and differ in exactly one letter, like bike/hike or water/wafer."
   ]
  },
  {
   "cell_type": "code",
   "execution_count": null,
   "id": "0dc43335",
   "metadata": {},
   "outputs": [],
   "source": [
    "def one_way(word1, word2):\n",
    "    if len(word1) != len(word2):\n",
    "        return False\n",
    "    diff = 0\n",
    "    for i, j in zip(word1, word2):\n",
    "        if i != j:\n",
    "            diff += 1\n",
    "    if diff == 1:\n",
    "        return True\n",
    "    else:\n",
    "        return False"
   ]
  },
  {
   "cell_type": "markdown",
   "id": "69dea11a",
   "metadata": {},
   "source": [
    "17. (a) Write a function called primes that is given a number n and returns a list of the first n primes. Let the default value of n be 100."
   ]
  },
  {
   "cell_type": "code",
   "execution_count": null,
   "id": "4f097ede",
   "metadata": {},
   "outputs": [],
   "source": [
    "def primes(n=100):\n",
    "    prime_list = list()\n",
    "    for i in range(2, n):\n",
    "        for j in range(2, i):\n",
    "            if not i % j:\n",
    "                break\n",
    "        else:\n",
    "            prime_list.append(i)\n",
    "    return prime_list"
   ]
  },
  {
   "cell_type": "markdown",
   "id": "8f403cff",
   "metadata": {},
   "source": [
    "17. (b) Modify the function above so that there is an optional argument called start that allows the list to start at a value other than 2. The function should return the first n primes that are greater than or equal to start. The default value of start should be 2."
   ]
  },
  {
   "cell_type": "code",
   "execution_count": null,
   "id": "bd0c5741",
   "metadata": {},
   "outputs": [],
   "source": [
    "def primes(n=100, start=2):\n",
    "    prime_list = list()\n",
    "    for i in range(start, n):\n",
    "        for j in range(start, i):\n",
    "            if not i % j:\n",
    "                break\n",
    "        else:\n",
    "            prime_list.append(i)\n",
    "    return prime_list"
   ]
  },
  {
   "cell_type": "markdown",
   "id": "6c8ce115",
   "metadata": {},
   "source": [
    "22. A Tic-tac-toe board can be represented be a 3×3 two-dimensional list, where zeroes stand for empty cells, ones stand for X’s and twos stand for O’s. (a) Write a function that is given such a list and randomly chooses a spot in which to place a 2. The spot chosen must currently be a 0 and a spot must be chosen."
   ]
  },
  {
   "cell_type": "code",
   "execution_count": null,
   "id": "22e9edbd",
   "metadata": {},
   "outputs": [],
   "source": [
    "import random\n",
    "def tic_tac_toe_filler(starter= 'O'):\n",
    "    tic_tac_toe_board = list(list(0 for row in range(3)) for col in range(3))\n",
    "    chosen_coords = set()\n",
    "    xo = (5, 4) if starter.upper() == 'O' else (4, 5)\n",
    "    your_picks = ['X']*xo[1]+['O']*xo[0]\n",
    "    while len(chosen_coords) < 9:\n",
    "        i, j = random.randint(0, 2), random.randint(0, 2)\n",
    "        if (i, j) not in chosen_coords:\n",
    "            pick = random.choice(your_picks)\n",
    "            tic_tac_toe_board[i][j] = pick\n",
    "            your_picks.remove(pick)\n",
    "            chosen_coords.add((i, j))\n",
    "    return tic_tac_toe_board"
   ]
  },
  {
   "cell_type": "markdown",
   "id": "2623fc54",
   "metadata": {},
   "source": [
    "22. (b) Write a function that is given such a list and checks to see if someone has won. Return True if there is a winner and False otherwise."
   ]
  },
  {
   "cell_type": "code",
   "execution_count": null,
   "id": "f2ee2298",
   "metadata": {},
   "outputs": [],
   "source": [
    "def tic_tac_toe_checker(x: list):\n",
    "    result = ''\n",
    "    # checking main diagonal\n",
    "    sign = ''\n",
    "    for i, j in enumerate(range(3)):\n",
    "        if not sign:\n",
    "            sign = x[i][j]\n",
    "        elif sign != x[i][j]:\n",
    "            break\n",
    "    else:\n",
    "        result = x[0][0]\n",
    "        return f'The winner is {result}'\n",
    "    # checking for anti-diagonal\n",
    "    sign = ''\n",
    "    for i, j in zip(range(3), range(2, -1, -1)):\n",
    "        if not sign:\n",
    "            sign = x[i][j]\n",
    "        elif sign != x[i][j]:\n",
    "            break\n",
    "    else:\n",
    "        result = x[0][-1]\n",
    "        return f'The winner is {result}'\n",
    "    # Checking for rows\n",
    "    for i in range(3):\n",
    "        sign = ''\n",
    "        for j in range(3):\n",
    "            if not sign:\n",
    "                sign = x[i][j]\n",
    "            elif sign != x[i][j]:\n",
    "                break\n",
    "        else:\n",
    "            result = x[i][0]\n",
    "            return f'The winner is {result}'\n",
    "    # Checking for columns\n",
    "    for j in range(3):\n",
    "        sign = ''\n",
    "        for i in range(3):\n",
    "            if not sign:\n",
    "                sign = x[i][j]\n",
    "            elif sign != x[i][j]:\n",
    "                break\n",
    "        else:\n",
    "            result = x[0][j]\n",
    "            return f'The winner is {result}'\n",
    "    return 'Draw'"
   ]
  },
  {
   "cell_type": "markdown",
   "id": "dd5e52c3",
   "metadata": {},
   "source": [
    "23. Write a function that is given a 9 × 9 potentially solved Sudoku and returns True if it is solved correctly and False if there is a mistake."
   ]
  },
  {
   "cell_type": "code",
   "execution_count": null,
   "id": "01af95dd",
   "metadata": {},
   "outputs": [],
   "source": [
    "def sudoku_check(board:list):\n",
    "    # Row Check\n",
    "    for row in board:\n",
    "        if len(set(row)) < 9:\n",
    "            return 'Not a Sudoku'\n",
    "    # Col Check\n",
    "    col_dict = {i: set() for i in range(9)}\n",
    "    for row in range(9):\n",
    "        for col in range(9):\n",
    "            if col not in col_dict:\n",
    "                col_dict[col] = board[row][col]\n",
    "            else:\n",
    "                col_dict[col].add(board[row][col])\n",
    "    else:\n",
    "        for i in col_dict:\n",
    "            if len(col_dict[i]) < 9:\n",
    "                return 'Not a Sudoku'\n",
    "    # Tile Check\n",
    "    tile_dict = {i: set() for i in range(9)}\n",
    "    tile_num = 0\n",
    "    for row in board:\n",
    "        if board.index(row) // 3 == 0:\n",
    "            tile_num = 0\n",
    "        elif board.index(row) // 3 == 1:\n",
    "            tile_num = 3\n",
    "        elif board.index(row) // 3 == 2:\n",
    "            tile_num = 6\n",
    "        for i in range(len(row)):\n",
    "            if i % 3 == 0 and i != 0:\n",
    "                tile_num += 1\n",
    "            tile_dict[tile_num].add(row[i])\n",
    "    for i in range(9):\n",
    "        if len(tile_dict[i]) < 9:\n",
    "            return 'Not a Sudoku'\n",
    "    return 'It\\'s a Sudoku.'"
   ]
  }
 ],
 "metadata": {
  "kernelspec": {
   "display_name": "Python 3 (ipykernel)",
   "language": "python",
   "name": "python3"
  },
  "language_info": {
   "codemirror_mode": {
    "name": "ipython",
    "version": 3
   },
   "file_extension": ".py",
   "mimetype": "text/x-python",
   "name": "python",
   "nbconvert_exporter": "python",
   "pygments_lexer": "ipython3",
   "version": "3.9.7"
  }
 },
 "nbformat": 4,
 "nbformat_minor": 5
}
