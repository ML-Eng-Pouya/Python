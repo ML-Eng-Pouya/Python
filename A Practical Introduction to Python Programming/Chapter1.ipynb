{
 "cells": [
  {
   "cell_type": "markdown",
   "id": "099a1913",
   "metadata": {},
   "source": [
    "# Answers to Chapter 1 Exercises"
   ]
  },
  {
   "cell_type": "markdown",
   "id": "0486f185",
   "metadata": {},
   "source": [
    "1. Print a (m*n) box of asterisks"
   ]
  },
  {
   "cell_type": "code",
   "execution_count": null,
   "id": "5222b3c9",
   "metadata": {},
   "outputs": [],
   "source": [
    "for i in range(4):\n",
    "    print('*'*40)"
   ]
  },
  {
   "cell_type": "markdown",
   "id": "3586dca1",
   "metadata": {},
   "source": [
    "2. In the previous exercise, makes the middle empty."
   ]
  },
  {
   "cell_type": "code",
   "execution_count": null,
   "id": "8985c994",
   "metadata": {},
   "outputs": [],
   "source": [
    "for i in range(4):\n",
    "    if i% 3 ==0:\n",
    "        print('*'*40)\n",
    "    else:\n",
    "        print('*', ' '*36, '*')"
   ]
  },
  {
   "cell_type": "markdown",
   "id": "521e1015",
   "metadata": {},
   "source": [
    "3. Print a triangle using asterisks."
   ]
  },
  {
   "cell_type": "code",
   "execution_count": null,
   "id": "41a671e0",
   "metadata": {},
   "outputs": [],
   "source": [
    "for i in range(1, 5):\n",
    "    print(i*'*')"
   ]
  },
  {
   "cell_type": "markdown",
   "id": "1717fb65",
   "metadata": {},
   "source": [
    "4. Write a program that computes and prints the result of (512 − 282)/(47 * 48 + 5). It is roughly 0.1017."
   ]
  },
  {
   "cell_type": "code",
   "execution_count": null,
   "id": "ea0f2b56",
   "metadata": {},
   "outputs": [],
   "source": [
    "float(f\"{((512 - 282) / (47 * 48 + 5)):.4f}\")"
   ]
  },
  {
   "cell_type": "markdown",
   "id": "7ef76db7",
   "metadata": {},
   "source": [
    "5. Ask the user to enter a number. Print out the square of the number, but use the sep optional argument to print it out in a full sentence that ends in a period."
   ]
  },
  {
   "cell_type": "code",
   "execution_count": null,
   "id": "43be9d82",
   "metadata": {},
   "outputs": [],
   "source": [
    "num = eval(input('Enter a number: '))\n",
    "f'The square of {num} is {num**2}.'"
   ]
  },
  {
   "cell_type": "markdown",
   "id": "4d42b710",
   "metadata": {},
   "source": [
    "6. Ask the user to enter a number x. Use the sep optional argument to print out x, 2x, 3x, 4x, and 5x, each separated by three dashes."
   ]
  },
  {
   "cell_type": "code",
   "execution_count": null,
   "id": "9a939c5a",
   "metadata": {},
   "outputs": [],
   "source": [
    "num = eval(input('Enter a number: '))\n",
    "print(num, num*2, num*3, num*4, num*5, sep='---')"
   ]
  },
  {
   "cell_type": "markdown",
   "id": "b4ff5821",
   "metadata": {},
   "source": [
    "7. Write a program that asks the user for a weight in kilograms and converts it to pounds. There are 2.2 pounds in a kilogram."
   ]
  },
  {
   "cell_type": "code",
   "execution_count": null,
   "id": "df4d8ca7",
   "metadata": {},
   "outputs": [],
   "source": [
    "num = eval(input('Enter a weight in kg: '))\n",
    "print(f'You weight {num*2.2:.2f} pounds.')"
   ]
  },
  {
   "cell_type": "markdown",
   "id": "f69a5262",
   "metadata": {},
   "source": [
    "8. Write a program that asks the user to enter three numbers (use three separate input statements). Create variables called total and average that hold the sum and average of the three numbers and print out the values of total and average."
   ]
  },
  {
   "cell_type": "code",
   "execution_count": null,
   "id": "c6bc96de",
   "metadata": {},
   "outputs": [],
   "source": [
    "total = 0\n",
    "for i in range(3):\n",
    "    num = eval(input('Enter a number: '))\n",
    "    total += num\n",
    "print(f'Total is: {total}, and Average is: {total/3}')"
   ]
  }
 ],
 "metadata": {
  "kernelspec": {
   "display_name": "Python 3 (ipykernel)",
   "language": "python",
   "name": "python3"
  },
  "language_info": {
   "codemirror_mode": {
    "name": "ipython",
    "version": 3
   },
   "file_extension": ".py",
   "mimetype": "text/x-python",
   "name": "python",
   "nbconvert_exporter": "python",
   "pygments_lexer": "ipython3",
   "version": "3.9.7"
  }
 },
 "nbformat": 4,
 "nbformat_minor": 5
}
