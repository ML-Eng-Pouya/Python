{
 "cells": [
  {
   "cell_type": "markdown",
   "id": "b58a8bd9",
   "metadata": {},
   "source": [
    "# Answers to Chapter 2 Exercises"
   ]
  },
  {
   "cell_type": "markdown",
   "id": "254f407f",
   "metadata": {},
   "source": [
    "1. Write a program that prints your name 100 times."
   ]
  },
  {
   "cell_type": "code",
   "execution_count": null,
   "id": "17f7713b",
   "metadata": {},
   "outputs": [],
   "source": [
    "print(*('Pouya\\n' for i in range(100)))"
   ]
  },
  {
   "cell_type": "markdown",
   "id": "84052c45",
   "metadata": {},
   "source": [
    "3. Write a program that outputs 100 lines, numbered 1 to 100, each with your name on it."
   ]
  },
  {
   "cell_type": "code",
   "execution_count": null,
   "id": "0e05695b",
   "metadata": {},
   "outputs": [],
   "source": [
    "print(*(f'{i} Pouya Mohammadi\\n' for i in range(1, 101)))"
   ]
  },
  {
   "cell_type": "markdown",
   "id": "8c86c7f6",
   "metadata": {},
   "source": [
    "4. Write a program that prints out a list of the integers from 1 to 20 and their squares."
   ]
  },
  {
   "cell_type": "code",
   "execution_count": null,
   "id": "5f8972be",
   "metadata": {},
   "outputs": [],
   "source": [
    "print(*(f'{i} --- {i**2}\\n' for i in range(1, 21)))"
   ]
  },
  {
   "cell_type": "markdown",
   "id": "e1e60655",
   "metadata": {},
   "source": [
    "5. Write a program that uses a for loop to print the numbers 8, 11, 14, 17, 20, . . . , 83, 86, 89."
   ]
  },
  {
   "cell_type": "code",
   "execution_count": null,
   "id": "b257273f",
   "metadata": {},
   "outputs": [],
   "source": [
    "print(*(i for i in range(8, 90, 3)), end='', sep=', ')"
   ]
  },
  {
   "cell_type": "markdown",
   "id": "e5d07c0b",
   "metadata": {},
   "source": [
    "6.  Write a program that uses a for loop to print the numbers 100, 98, 96, . . . , 4, 2."
   ]
  },
  {
   "cell_type": "code",
   "execution_count": null,
   "id": "0f8524c2",
   "metadata": {},
   "outputs": [],
   "source": [
    "print(*(i for i in range(100, 0, -2)), end='', sep=', ')"
   ]
  },
  {
   "cell_type": "markdown",
   "id": "6f119e91",
   "metadata": {},
   "source": [
    "7. Write a program that uses exactly four for loops to print the sequence of letters below. \"AAAAAAAAAABBBBBBBCDCDCDCDEFFFFFFG\""
   ]
  },
  {
   "cell_type": "code",
   "execution_count": null,
   "id": "662d6166",
   "metadata": {},
   "outputs": [],
   "source": [
    "my_str = ''\n",
    "for i in range(10):\n",
    "    my_str += 'A'\n",
    "    if i ==9:\n",
    "        my_str += 'B'*7\n",
    "else:\n",
    "    for i in range(4):\n",
    "        my_str += 'CD'\n",
    "        if i == 3:\n",
    "            my_str += 'E'\n",
    "    else:\n",
    "        for i in range(6):\n",
    "            my_str += 'F'\n",
    "            if i == 5:\n",
    "                my_str += 'G'\n",
    "        else:\n",
    "            print(my_str)"
   ]
  },
  {
   "cell_type": "markdown",
   "id": "e5fdae88",
   "metadata": {},
   "source": [
    "14. Use for loops to print a diamond"
   ]
  },
  {
   "cell_type": "code",
   "execution_count": null,
   "id": "7521906b",
   "metadata": {},
   "outputs": [],
   "source": [
    "for i in range(1, 8, 2):\n",
    "    print(('*'*i).center(20, ' '))\n",
    "for i in range(5, 0, -2):\n",
    "    print(('*'*i).center(20, ' '))"
   ]
  }
 ],
 "metadata": {
  "kernelspec": {
   "display_name": "Python 3 (ipykernel)",
   "language": "python",
   "name": "python3"
  },
  "language_info": {
   "codemirror_mode": {
    "name": "ipython",
    "version": 3
   },
   "file_extension": ".py",
   "mimetype": "text/x-python",
   "name": "python",
   "nbconvert_exporter": "python",
   "pygments_lexer": "ipython3",
   "version": "3.9.7"
  }
 },
 "nbformat": 4,
 "nbformat_minor": 5
}
