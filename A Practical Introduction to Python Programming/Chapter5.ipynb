{
 "cells": [
  {
   "cell_type": "markdown",
   "id": "bd1ac08f",
   "metadata": {},
   "source": [
    "## Answers to Chapter 5 Exercises"
   ]
  },
  {
   "cell_type": "markdown",
   "id": "d4f447ef",
   "metadata": {},
   "source": [
    "1. Write a program that counts how many of the squares of the numbers from 1 to 100 end in a 1."
   ]
  },
  {
   "cell_type": "code",
   "execution_count": null,
   "id": "efa225cd",
   "metadata": {},
   "outputs": [],
   "source": [
    "count = 0\n",
    "for i in range(1, 101):\n",
    "    if (i**2)%10 == 1:\n",
    "        count += 1\n",
    "else:\n",
    "    print(count)"
   ]
  },
  {
   "cell_type": "markdown",
   "id": "31ec0584",
   "metadata": {},
   "source": [
    "2. Write a program that counts how many of the squares of the numbers from 1 to 100 end in a 4 and how many end in a 9."
   ]
  },
  {
   "cell_type": "code",
   "execution_count": null,
   "id": "23b287b3",
   "metadata": {},
   "outputs": [],
   "source": [
    "end4 = 0\n",
    "end9 = 0\n",
    "for i in range(1, 101):\n",
    "    if (i**2)%10 == 4:\n",
    "        end4 += 1\n",
    "    elif (i**2)%10 == 9:\n",
    "        end9 += 1\n",
    "else:\n",
    "    print(end4)\n",
    "    print(end9)"
   ]
  },
  {
   "cell_type": "markdown",
   "id": "bd52b7e9",
   "metadata": {},
   "source": [
    "3. Write a program that asks the user to enter a value n, and then computes (1+ 1/2 + 1/3 +···+ 1/n)− ln(n). The ln function is log in the math module."
   ]
  },
  {
   "cell_type": "code",
   "execution_count": null,
   "id": "7fb9297a",
   "metadata": {},
   "outputs": [],
   "source": [
    "import math\n",
    "num = eval(input('Enter a number: '))\n",
    "final = 0\n",
    "for i in range(1, num+1):\n",
    "    if i == num:\n",
    "        final += 1/i - math.log(i)\n",
    "    else:\n",
    "        final += 1/i\n",
    "else:\n",
    "    print(final)"
   ]
  },
  {
   "cell_type": "markdown",
   "id": "76dda3b6",
   "metadata": {},
   "source": [
    "4. Write a program to compute the sum 1 − 2 + 3 − 4 + ··· + 1999 − 2000."
   ]
  },
  {
   "cell_type": "code",
   "execution_count": null,
   "id": "881bc48c",
   "metadata": {},
   "outputs": [],
   "source": [
    "calc = 0\n",
    "for i in range(1, 2001):\n",
    "    if i%2 ==0:\n",
    "        calc -= i\n",
    "    else:\n",
    "        calc += i\n",
    "else:\n",
    "    print(calc)"
   ]
  },
  {
   "cell_type": "markdown",
   "id": "3bebb393",
   "metadata": {},
   "source": [
    "5. Write a program that asks the user to enter a number and prints the sum of the divisors of that number. The sum of the divisors of a number is an important function in number theory"
   ]
  },
  {
   "cell_type": "code",
   "execution_count": null,
   "id": "9c151ae3",
   "metadata": {},
   "outputs": [],
   "source": [
    "num = eval(input('Enter a number: '))\n",
    "divisors = list()\n",
    "for i in range(1, num+1):\n",
    "    if num % i == 0:\n",
    "        divisors.append(i)\n",
    "else:\n",
    "    print(sum(i for i in divisors))"
   ]
  },
  {
   "cell_type": "markdown",
   "id": "ac015e62",
   "metadata": {},
   "source": [
    "6. A number is called a perfect number if it is equal to the sum of all of its divisors, not including the number itself. For instance, 6 is a perfect number because the divisors of 6 are 1, 2, 3, 6 and 6 = 1 + 2 + 3. As another example, 28 is a perfect number because its divisors are 1, 2, 4, 7, 14, 28 and 28 = 1 + 2 + 4 + 7 + 14. However, 15 is not a perfect number because its divisors are 1, 3, 5, 15 and 15 6= 1 + 3 + 5. Write a program that finds all four of the perfect numbers that are less than 10000."
   ]
  },
  {
   "cell_type": "code",
   "execution_count": null,
   "id": "2d9bdf45",
   "metadata": {},
   "outputs": [],
   "source": [
    "divisors = set()\n",
    "perf_num = list()\n",
    "for i in range(1, 10001):\n",
    "    for j in range(1, i):\n",
    "        if i % j == 0:\n",
    "            divisors.add(j)\n",
    "    else:\n",
    "        if sum(k for k in divisors) == i:\n",
    "            perf_num.append(i)\n",
    "        else:\n",
    "            divisors.clear()\n",
    "else:\n",
    "    print(perf_num)"
   ]
  },
  {
   "cell_type": "markdown",
   "id": "42c4e8f2",
   "metadata": {},
   "source": [
    "7. An integer is called squarefree if it is not divisible by any perfect squares other than 1. For instance, 42 is squarefree because its divisors are 1, 2, 3, 6, 7, 21, and 42, and none of those numbers (except 1) is a perfect square. On the other hand, 45 is not squarefree because it is divisible by 9, which is a perfect square. Write a program that asks the user for an integer and tells them if it is squarefree or not."
   ]
  },
  {
   "cell_type": "code",
   "execution_count": null,
   "id": "210510e0",
   "metadata": {},
   "outputs": [],
   "source": [
    "num = eval(input('Enter your number: '))\n",
    "for i in range(2, num):\n",
    "    if num % (i**2) == 0:\n",
    "        print(f'{num} is not Square-free.')\n",
    "        break\n",
    "else:\n",
    "    print(f'{num} is Square Free.')"
   ]
  },
  {
   "cell_type": "markdown",
   "id": "23728431",
   "metadata": {},
   "source": [
    "8. Write a program that swaps the values of three variables x, y, and z, so that x gets the value of y, y gets the value of z, and z gets the value of x."
   ]
  },
  {
   "cell_type": "code",
   "execution_count": null,
   "id": "f2401dde",
   "metadata": {
    "scrolled": true
   },
   "outputs": [],
   "source": [
    "x, y, z = eval(input('Enter 3 numbers:'))\n",
    "x, y, z = y, z, x"
   ]
  },
  {
   "cell_type": "markdown",
   "id": "d87ea720",
   "metadata": {},
   "source": [
    "9. Write a program to count how many integers from 1 to 1000 are not perfect squares, perfect cubes, or perfect fifth powers."
   ]
  },
  {
   "cell_type": "code",
   "execution_count": null,
   "id": "b07eee19",
   "metadata": {},
   "outputs": [],
   "source": [
    "perf_free = list()\n",
    "for i in range(1, 1000):\n",
    "    for j in range(2, i):\n",
    "        if i % (j**2) == 0 or i % (j**3) == 0 or i % (j**5) == 0:\n",
    "            break\n",
    "    else:\n",
    "        perf_free.append(i)\n",
    "else:\n",
    "    print(len(perf_free))"
   ]
  },
  {
   "cell_type": "markdown",
   "id": "a84de5d3",
   "metadata": {},
   "source": [
    "10. Ask the user to enter 10 test scores. Write a program to do the following:\n",
    "(a) Print out the highest and lowest scores.\n",
    "(b) Print out the average of the scores.\n",
    "(c) Print out the second largest score.\n",
    "(d) If any of the scores is greater than 100, then after all the scores have been entered, print\n",
    "a message warning the user that a value over 100 has been entered.\n",
    "(e) Drop the two lowest scores and print out the average of the rest of them"
   ]
  },
  {
   "cell_type": "code",
   "execution_count": null,
   "id": "c0ff9226",
   "metadata": {},
   "outputs": [],
   "source": [
    "test_scores = list()\n",
    "while len(test_scores)< 10:\n",
    "    test_scores.append(eval(input('Enter a test score: ')))\n",
    "#a\n",
    "maximum = max(test_scores)\n",
    "minimum = min(test_scores)\n",
    "#b\n",
    "average = sum(test_scores)/len(test_scores)\n",
    "#c\n",
    "test_scores.sort()\n",
    "second_largest_score = test_scores[-2]\n",
    "#d\n",
    "for i in test_scores:\n",
    "    if i > 100:\n",
    "        print('A value above 100 is entered.')\n",
    "#e test_scores.sort()\n",
    "average1 = sum(test_scores[2:])/len(test_scores[2:])"
   ]
  },
  {
   "cell_type": "markdown",
   "id": "878fd327",
   "metadata": {},
   "source": [
    "12. Write a program that asks the user to guess a random number between 1 and 10. If they guess right, they get 10 points added to their score, and they lose 1 point for an incorrect guess. Give the user five numbers to guess and print their score after all the guessing is done."
   ]
  },
  {
   "cell_type": "code",
   "execution_count": null,
   "id": "fc7c57c1",
   "metadata": {},
   "outputs": [],
   "source": [
    "from random import randint\n",
    "computer_numbers = list(randint(1, 10) for i in range(5))\n",
    "user_score = 0\n",
    "for j in range(len(computer_numbers)):\n",
    "    user_guess = eval(input('Pick a number between 1-10: '))\n",
    "    if user_guess == computer_numbers[j]:\n",
    "        user_score += 10\n",
    "        print('Correct')\n",
    "    else:\n",
    "        user_score -= 1\n",
    "        print('Wrong')\n",
    "else:\n",
    "    print(f'User Score: {user_score}')"
   ]
  },
  {
   "cell_type": "markdown",
   "id": "2cfa72c6",
   "metadata": {},
   "source": [
    "14. This exercise is about the well-known Monty Hall problem. In the problem, you are a contestant on a game show. The host, Monty Hall, shows you three doors. Behind one of those doors is a prize, and behind the other two doors are goats. You pick a door. Monty Hall, who knows behind which door the prize lies, then opens up one of the doors that doesn’t contain the prize. There are now two doors left, and Monty gives you the opportunity to change your choice. Should you keep the same door, change doors, or does it not matter? (a) Write a program that simulates playing this game 10000 times and calculates what percentage of the time you would win if you switch and what percentage of the time you would win by not switching."
   ]
  },
  {
   "cell_type": "code",
   "execution_count": null,
   "id": "6f4ba7a6",
   "metadata": {},
   "outputs": [],
   "source": [
    "import random\n",
    "user_score = {'Should Switch': 0, 'Should not Switch': 0}\n",
    "N = 10000\n",
    "for i in range(N):\n",
    "    # Creating Doors\n",
    "    monty_doors = list((1, 0, 0))\n",
    "    random.shuffle(monty_doors)\n",
    "    # Getting User's Choice\n",
    "    user_pick = random.randint(1, 3)\n",
    "    # while True:\n",
    "    #     try:\n",
    "    #         user_pick = eval(input('Pick a door number from 1-3: '))\n",
    "    #         if user_pick in [1, 2, 3]:\n",
    "    #             break\n",
    "    #     except (NameError, EOFError):\n",
    "    #         continue\n",
    "    # Monty Eliminates a door\n",
    "    while True:\n",
    "        monty_pick = random.randint(1, 3)\n",
    "        if monty_doors[monty_pick - 1] or monty_pick == user_pick:\n",
    "            continue\n",
    "        else:\n",
    "            break\n",
    "    # Ask if the user wants to change its choice\n",
    "    switch = random.choice(['yes', 'no'])  # input('Would you like to change your door number?[Yes/No] ')\n",
    "    if switch.lower() in ('yes', 'y'):\n",
    "        while True:\n",
    "            try:\n",
    "                user_pick2 = random.randint(1, 3)\n",
    "                # user_pick2 = eval(input('Pick a door number from 1-3: '))\n",
    "                if user_pick2 == monty_pick:\n",
    "                    continue\n",
    "                elif user_pick2 in [1, 2, 3]:\n",
    "                    break\n",
    "            except (NameError, EOFError):\n",
    "                continue\n",
    "        if not monty_doors[user_pick2-1]:\n",
    "            user_score['Should not Switch'] += 1\n",
    "    else:\n",
    "        if not monty_doors[user_pick-1]:\n",
    "            user_score['Should Switch'] += 1\n",
    "else:\n",
    "    print(f\"In %{(user_score['Should Switch']/N)*100:.2f} of occasions you would win if you switched.\\n\"\n",
    "          f\"In %{(user_score['Should not Switch']/N)*100:.2f} of occasions you would win if you didn't switch.\")\n"
   ]
  }
 ],
 "metadata": {
  "kernelspec": {
   "display_name": "Python 3 (ipykernel)",
   "language": "python",
   "name": "python3"
  },
  "language_info": {
   "codemirror_mode": {
    "name": "ipython",
    "version": 3
   },
   "file_extension": ".py",
   "mimetype": "text/x-python",
   "name": "python",
   "nbconvert_exporter": "python",
   "pygments_lexer": "ipython3",
   "version": "3.9.7"
  }
 },
 "nbformat": 4,
 "nbformat_minor": 5
}
