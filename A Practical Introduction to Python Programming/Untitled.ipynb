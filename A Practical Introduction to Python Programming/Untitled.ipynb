{
 "cells": [
  {
   "cell_type": "markdown",
   "id": "5304749b",
   "metadata": {},
   "source": [
    "# Answers to Chpater 10 Exercises"
   ]
  },
  {
   "cell_type": "markdown",
   "id": "756a27ef",
   "metadata": {},
   "source": [
    "1. Write a program that uses list and range to create the list [3,6, 9, . . . , 99]."
   ]
  },
  {
   "cell_type": "code",
   "execution_count": null,
   "id": "92ae42e4",
   "metadata": {},
   "outputs": [],
   "source": [
    "print(list(i for i in range(3, 100, 3)))"
   ]
  },
  {
   "cell_type": "markdown",
   "id": "f4ce46c0",
   "metadata": {},
   "source": [
    "3. Write a program that asks the user to enter a word. Rearrange all the letters of the word in alphabetical order and print out the resulting word. For example, abracadabra should become aaaaabbcdrr."
   ]
  },
  {
   "cell_type": "code",
   "execution_count": null,
   "id": "a124275f",
   "metadata": {},
   "outputs": [],
   "source": [
    "word = 'abracadabra'\n",
    "print(''.join(sorted(word)))"
   ]
  },
  {
   "cell_type": "markdown",
   "id": "4560d9e8",
   "metadata": {},
   "source": [
    "7. Write a program that creates the list [1,11,111,1111,...,111...1], where the entries have an ever increasing number of ones, with the last entry having 100 ones."
   ]
  },
  {
   "cell_type": "code",
   "execution_count": null,
   "id": "9abce623",
   "metadata": {},
   "outputs": [],
   "source": [
    "num = 0\n",
    "result = list()\n",
    "for i in range(1, 101):\n",
    "    for j in range(i):\n",
    "        num += 10**j\n",
    "    else:\n",
    "        result.append(num)\n",
    "        num = 0\n",
    "else:\n",
    "    print(result)"
   ]
  },
  {
   "cell_type": "markdown",
   "id": "25c3896a",
   "metadata": {},
   "source": [
    "8. Write a program to find all numbers between 1 and 1000 that are divisible by 7 and end in a 6."
   ]
  },
  {
   "cell_type": "code",
   "execution_count": null,
   "id": "547097bb",
   "metadata": {},
   "outputs": [],
   "source": [
    "my_list = []\n",
    "for i in range(1000):\n",
    "    if not i % 7 and str(i)[-1] == '6':\n",
    "        my_list.append(i)\n",
    "else:\n",
    "    print(len(my_list), my_list)"
   ]
  },
  {
   "cell_type": "markdown",
   "id": "6a2592d1",
   "metadata": {},
   "source": [
    "9. Write a program to determine how many of the numbers between 1 and 10000 contain the digit 3."
   ]
  },
  {
   "cell_type": "code",
   "execution_count": null,
   "id": "c22a3342",
   "metadata": {},
   "outputs": [],
   "source": [
    "counter = 0\n",
    "for i in range(10000):\n",
    "    if '3' in str(i):\n",
    "        counter += 1\n",
    "else:\n",
    "    print(counter)"
   ]
  },
  {
   "cell_type": "markdown",
   "id": "d1def021",
   "metadata": {},
   "source": [
    "10. Adding certain numbers to their reversals sometimes produces a palindromic number. For instance, 241 + 142 = 383. Sometimes, we have to repeat the process. For instance, 84 + 48 = 132 and 132 + 231 = 363. Write a program that finds both two-digit numbers for which this process must be repeated more than 20 times to obtain a palindromic number."
   ]
  },
  {
   "cell_type": "code",
   "execution_count": null,
   "id": "c396a411",
   "metadata": {},
   "outputs": [],
   "source": [
    "def palindromic_check(x):\n",
    "    if str(num) == str(num)[::-1]:\n",
    "        return False\n",
    "    else:\n",
    "        return True\n",
    "\n",
    "def reversal_addition(x):\n",
    "    return num + int(str(num)[::-1])\n",
    "\n",
    "for num in range(10, 100):\n",
    "    counter = 0\n",
    "    temp_num = num\n",
    "    while palindromic_check(num):\n",
    "        num = reversal_addition(num)\n",
    "        counter += 1\n",
    "    else:\n",
    "        if counter > 20:\n",
    "            print(f'For {temp_num}, {counter} try was required to obtain a palindromic number.')"
   ]
  },
  {
   "cell_type": "markdown",
   "id": "32542a3a",
   "metadata": {},
   "source": [
    "12. The number 1961 reads the same upside-down as right-side up. Print out all the numbers between 1 and 100000 that read the same upside-down as right-side up."
   ]
  },
  {
   "cell_type": "code",
   "execution_count": 2,
   "id": "d285b209",
   "metadata": {},
   "outputs": [
    {
     "name": "stdout",
     "output_type": "stream",
     "text": [
      "[0, 1, 8, 11, 69, 88, 96, 101, 111, 181, 609, 619, 689, 808, 818, 888, 906, 916, 986, 1001, 1111, 1691, 1881, 1961, 6009, 6119, 6699, 6889, 6969, 8008, 8118, 8698, 8888, 8968, 9006, 9116, 9696, 9886, 9966, 10001, 10101, 10801, 11011, 11111, 11811, 16091, 16191, 16891, 18081, 18181, 18881, 19061, 19161, 19861, 60009, 60109, 60809, 61019, 61119, 61819, 66099, 66199, 66899, 68089, 68189, 68889, 69069, 69169, 69869, 80008, 80108, 80808, 81018, 81118, 81818, 86098, 86198, 86898, 88088, 88188, 88888, 89068, 89168, 89868, 90006, 90106, 90806, 91016, 91116, 91816, 96096, 96196, 96896, 98086, 98186, 98886, 99066, 99166, 99866]\n"
     ]
    }
   ],
   "source": [
    "possible_numbers = list()\n",
    "for i in range(100000):\n",
    "    for j in list(str(i)):\n",
    "        if j not in ['0', '1', '6', '8', '9']:\n",
    "            break\n",
    "    else:\n",
    "        possible_numbers.append(i)\n",
    "\n",
    "final_list = list()\n",
    "for num in possible_numbers:\n",
    "    new_num = ''\n",
    "    rev_num = str(num)[::-1]\n",
    "    for k in rev_num:\n",
    "        if k == '9':\n",
    "            new_num += '6'\n",
    "        elif k == '6':\n",
    "            new_num += '9'\n",
    "        else:\n",
    "            new_num += k\n",
    "    else:\n",
    "        if int(new_num) == num:\n",
    "            final_list.append(num)\n",
    "else:\n",
    "    print(final_list)"
   ]
  },
  {
   "cell_type": "markdown",
   "id": "edf420ba",
   "metadata": {},
   "source": [
    "13. The number 99 has the property that if we multiply its digits together and then add the sum of its digits to that, we get back to 99. That is, (9 × 9) + (9 + 9) = 99. Write a program to find all of the numbers less than 10000 with this property. (There are only nine of them.)"
   ]
  },
  {
   "cell_type": "code",
   "execution_count": null,
   "id": "da67f571",
   "metadata": {},
   "outputs": [],
   "source": [
    "def num_product(num):\n",
    "    prod = 1\n",
    "    for i in str(num):\n",
    "        prod *= int(i)\n",
    "    return prod\n",
    "\n",
    "def num_sum(num):\n",
    "    summation = 0\n",
    "    for j in str(num):\n",
    "        summation += int(j)\n",
    "    return summation\n",
    "\n",
    "for i in range(1, 10000):\n",
    "    if num_sum(i) + num_product(i) == i:\n",
    "        print(i)"
   ]
  },
  {
   "cell_type": "markdown",
   "id": "1a09f5d6",
   "metadata": {},
   "source": [
    "15. Write a program to determine how many zeroes 1000! ends with."
   ]
  },
  {
   "cell_type": "code",
   "execution_count": 4,
   "id": "d0bbe1a9",
   "metadata": {},
   "outputs": [
    {
     "name": "stdout",
     "output_type": "stream",
     "text": [
      "249\n"
     ]
    }
   ],
   "source": [
    "import math\n",
    "num = math.factorial(1000)\n",
    "reverse = str(num)[::-1]\n",
    "counter = 0\n",
    "for i in reverse:\n",
    "    if i == '0':\n",
    "        counter += 1\n",
    "    else:\n",
    "        print(counter)\n",
    "        break"
   ]
  },
  {
   "cell_type": "code",
   "execution_count": null,
   "id": "1abe5e58",
   "metadata": {},
   "outputs": [],
   "source": []
  }
 ],
 "metadata": {
  "kernelspec": {
   "display_name": "Python 3 (ipykernel)",
   "language": "python",
   "name": "python3"
  },
  "language_info": {
   "codemirror_mode": {
    "name": "ipython",
    "version": 3
   },
   "file_extension": ".py",
   "mimetype": "text/x-python",
   "name": "python",
   "nbconvert_exporter": "python",
   "pygments_lexer": "ipython3",
   "version": "3.9.7"
  }
 },
 "nbformat": 4,
 "nbformat_minor": 5
}
