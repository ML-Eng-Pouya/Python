{
 "cells": [
  {
   "cell_type": "markdown",
   "id": "6795bad8",
   "metadata": {},
   "source": [
    "# Alphabet Soup"
   ]
  },
  {
   "cell_type": "markdown",
   "id": "ae595f22",
   "metadata": {},
   "source": [
    "Problem: Given a string of alphabetical characters following the rules seen down below in part A and part B, return a new string with the characters in the alphabetical order. Capital letters should appear before the same lowercase letter(s) in part B (Ex. aBbbCcdEe ...). There will be no spaces in any of the strings."
   ]
  },
  {
   "cell_type": "markdown",
   "id": "f00e8267",
   "metadata": {},
   "source": [
    "PartA.) The strig contains only lowercase letters."
   ]
  },
  {
   "cell_type": "markdown",
   "id": "e7e92b6d",
   "metadata": {},
   "source": [
    "Part B.) The string contains both lowercase and uppercase letters."
   ]
  },
  {
   "cell_type": "markdown",
   "id": "405c8569",
   "metadata": {},
   "source": [
    "Sample Input/Output:"
   ]
  },
  {
   "cell_type": "markdown",
   "id": "80f4ae9f",
   "metadata": {},
   "source": [
    "A.) Input: 'hello'   Output: 'ehllo'"
   ]
  },
  {
   "cell_type": "code",
   "execution_count": null,
   "id": "0440f0e6",
   "metadata": {
    "scrolled": true
   },
   "outputs": [],
   "source": [
    "my_str = 'hello'\n",
    "output = ''.join(sorted(my_str))\n",
    "output"
   ]
  },
  {
   "cell_type": "markdown",
   "id": "36b28c26",
   "metadata": {},
   "source": [
    "B.) Input: 'eLEPhAnt'   Output: 'AEehLnPt'"
   ]
  },
  {
   "cell_type": "code",
   "execution_count": null,
   "id": "bd188ce2",
   "metadata": {},
   "outputs": [],
   "source": [
    "my_str2 = 'AEehLnPt'\n",
    "output2 = ''.join(sorted(my_str2, key=lambda y: (y.upper(), y)))\n",
    "output2"
   ]
  }
 ],
 "metadata": {
  "kernelspec": {
   "display_name": "Python 3 (ipykernel)",
   "language": "python",
   "name": "python3"
  },
  "language_info": {
   "codemirror_mode": {
    "name": "ipython",
    "version": 3
   },
   "file_extension": ".py",
   "mimetype": "text/x-python",
   "name": "python",
   "nbconvert_exporter": "python",
   "pygments_lexer": "ipython3",
   "version": "3.9.7"
  }
 },
 "nbformat": 4,
 "nbformat_minor": 5
}
